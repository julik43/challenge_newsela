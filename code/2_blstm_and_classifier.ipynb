{
 "cells": [
  {
   "cell_type": "markdown",
   "id": "2c5ef6bd-6630-4df6-b159-fafa00257c14",
   "metadata": {},
   "source": [
    "# Classifier\n",
    "\n",
    "This challenge involves an **extreme multilabel classification** problem, where multiple content items are associated with multiple topics. Rather than training a conventional classifier across all 76,000 topics—which would be computationally expensive and complex—we adopt a **pairwise binary classification** approach.\n",
    "\n",
    "To build the pairwise binary classifier, the following steps are taken:\n",
    "\n",
    "1. **Preprocess content text**:\n",
    "\n",
    "   * Use the `text` field from the content dataset.\n",
    "   * If `text` is missing, fall back to the `description`.\n",
    "   * If both are missing, use the `title`.\n",
    "\n",
    "2. **Truncate the text**:\n",
    "\n",
    "   * Keep only the first 100 characters to train a BLSTM model for language classification and embedding generation.\n",
    "\n",
    "3. **Tokenize** the text using the `bert-base-uncased` tokenizer.\n",
    "\n",
    "4. **Train a BLSTM model** for language classification:\n",
    "\n",
    "   * Extract the hidden layer just before the output as a learned embedding.\n",
    "   * These embeddings, along with additional features, will be used to train the pairwise binary classifier.\n",
    "\n",
    "5. **Generate embeddings**:\n",
    "\n",
    "   * Create embeddings for all content items.\n",
    "   * Process the topics dataset similarly: if `description` is missing, use `title`, then generate embeddings for each topic.\n",
    "\n",
    "6. **Build the dataset for pairwise classification**:\n",
    "\n",
    "   * Collect positive pairs from the provided topic-content correlations.\n",
    "   * Generate `k_neg` negative samples by pairing topics and contents that are not correlated.\n",
    "\n",
    "7. **Train a LightGBM classifier** on these positive and negative pairs to perform **pairwise binary classification**."
   ]
  },
  {
   "cell_type": "code",
   "execution_count": 1,
   "id": "fbc49ff0-78ef-413a-9ac8-a32fedebc080",
   "metadata": {},
   "outputs": [
    {
     "name": "stderr",
     "output_type": "stream",
     "text": [
      "2025-07-09 23:35:35.474675: I tensorflow/core/platform/cpu_feature_guard.cc:182] This TensorFlow binary is optimized to use available CPU instructions in performance-critical operations.\n",
      "To enable the following instructions: AVX2 FMA, in other operations, rebuild TensorFlow with the appropriate compiler flags.\n",
      "2025-07-09 23:35:35.977934: W tensorflow/compiler/tf2tensorrt/utils/py_utils.cc:38] TF-TRT Warning: Could not find TensorRT\n",
      "/home/rtx/anaconda3/envs/tf2/lib/python3.8/site-packages/tqdm/auto.py:21: TqdmWarning: IProgress not found. Please update jupyter and ipywidgets. See https://ipywidgets.readthedocs.io/en/stable/user_install.html\n",
      "  from .autonotebook import tqdm as notebook_tqdm\n"
     ]
    }
   ],
   "source": [
    "import pandas as pd\n",
    "import numpy as np\n",
    "import os\n",
    "import pickle\n",
    "import matplotlib.pyplot as plt\n",
    "import seaborn as sns\n",
    "\n",
    "from lightgbm import LGBMClassifier\n",
    "from tqdm import tqdm\n",
    "\n",
    "from sklearn.preprocessing import LabelEncoder\n",
    "from sklearn.model_selection import train_test_split\n",
    "from sklearn.metrics import roc_auc_score, f1_score\n",
    "from sklearn.metrics import classification_report\n",
    "\n",
    "import tensorflow as tf\n",
    "from tensorflow.keras.models import Model\n",
    "from tensorflow.keras.layers import Input, Embedding, LSTM, Bidirectional, GlobalMaxPool1D, Dense, Dropout\n",
    "from tensorflow.keras.optimizers import Adam\n",
    "from tensorflow.keras.initializers import GlorotUniform, RandomUniform\n",
    "from tensorflow.keras.utils import to_categorical\n",
    "\n",
    "from transformers import AutoTokenizer"
   ]
  },
  {
   "cell_type": "markdown",
   "id": "cd037b10-f4b8-4030-b1d5-22d477464971",
   "metadata": {},
   "source": [
    "## BLSTM Embeddings"
   ]
  },
  {
   "cell_type": "code",
   "execution_count": 2,
   "id": "a64ad2df-a94d-4bcd-a488-58ce3c5f9de5",
   "metadata": {},
   "outputs": [],
   "source": [
    "# Constants for training ansd stabilizing the model\n",
    "EPOCHS = 5\n",
    "\n",
    "SEED = 42\n",
    "os.environ['PYTHONHASHSEED'] = str(SEED)\n",
    "np.random.seed(SEED)\n",
    "tf.random.set_seed(SEED)\n",
    "tf.config.experimental.enable_op_determinism()\n",
    "\n",
    "text_column = 'text_100'\n",
    "label_columns = 'lang_id'"
   ]
  },
  {
   "cell_type": "code",
   "execution_count": 3,
   "id": "5f4e1f7b-1761-478a-a8a8-f4071dedcbff",
   "metadata": {},
   "outputs": [
    {
     "data": {
      "text/html": [
       "<div>\n",
       "<style scoped>\n",
       "    .dataframe tbody tr th:only-of-type {\n",
       "        vertical-align: middle;\n",
       "    }\n",
       "\n",
       "    .dataframe tbody tr th {\n",
       "        vertical-align: top;\n",
       "    }\n",
       "\n",
       "    .dataframe thead th {\n",
       "        text-align: right;\n",
       "    }\n",
       "</style>\n",
       "<table border=\"1\" class=\"dataframe\">\n",
       "  <thead>\n",
       "    <tr style=\"text-align: right;\">\n",
       "      <th></th>\n",
       "      <th>id</th>\n",
       "      <th>title</th>\n",
       "      <th>description</th>\n",
       "      <th>kind</th>\n",
       "      <th>text</th>\n",
       "      <th>language</th>\n",
       "      <th>copyright_holder</th>\n",
       "      <th>license</th>\n",
       "    </tr>\n",
       "  </thead>\n",
       "  <tbody>\n",
       "    <tr>\n",
       "      <th>0</th>\n",
       "      <td>c_00002381196d</td>\n",
       "      <td>Sumar números de varios dígitos: 48,029+233,930</td>\n",
       "      <td>Suma 48,029+233,930 mediante el algoritmo está...</td>\n",
       "      <td>video</td>\n",
       "      <td>NaN</td>\n",
       "      <td>es</td>\n",
       "      <td>NaN</td>\n",
       "      <td>NaN</td>\n",
       "    </tr>\n",
       "    <tr>\n",
       "      <th>1</th>\n",
       "      <td>c_000087304a9e</td>\n",
       "      <td>Trovare i fattori di un numero</td>\n",
       "      <td>Sal trova i fattori di 120.\\n\\n</td>\n",
       "      <td>video</td>\n",
       "      <td>NaN</td>\n",
       "      <td>it</td>\n",
       "      <td>NaN</td>\n",
       "      <td>NaN</td>\n",
       "    </tr>\n",
       "    <tr>\n",
       "      <th>2</th>\n",
       "      <td>c_0000ad142ddb</td>\n",
       "      <td>Sumar curvas de demanda</td>\n",
       "      <td>Cómo añadir curvas de demanda\\n\\n</td>\n",
       "      <td>video</td>\n",
       "      <td>NaN</td>\n",
       "      <td>es</td>\n",
       "      <td>NaN</td>\n",
       "      <td>NaN</td>\n",
       "    </tr>\n",
       "    <tr>\n",
       "      <th>3</th>\n",
       "      <td>c_0000c03adc8d</td>\n",
       "      <td>Nado de aproximação</td>\n",
       "      <td>Neste vídeo você vai aprender o nado de aproxi...</td>\n",
       "      <td>document</td>\n",
       "      <td>\\nNado de aproximação\\nSaber nadar nas ondas ...</td>\n",
       "      <td>pt</td>\n",
       "      <td>Sikana Education</td>\n",
       "      <td>CC BY-NC-ND</td>\n",
       "    </tr>\n",
       "    <tr>\n",
       "      <th>4</th>\n",
       "      <td>c_00016694ea2a</td>\n",
       "      <td>geometry-m3-topic-a-overview.pdf</td>\n",
       "      <td>geometry-m3-topic-a-overview.pdf</td>\n",
       "      <td>document</td>\n",
       "      <td>Estándares Comunes del Estado de Nueva York\\n\\...</td>\n",
       "      <td>es</td>\n",
       "      <td>Engage NY</td>\n",
       "      <td>CC BY-NC-SA</td>\n",
       "    </tr>\n",
       "  </tbody>\n",
       "</table>\n",
       "</div>"
      ],
      "text/plain": [
       "               id                                             title  \\\n",
       "0  c_00002381196d  Sumar números de varios dígitos: 48,029+233,930    \n",
       "1  c_000087304a9e                    Trovare i fattori di un numero   \n",
       "2  c_0000ad142ddb                           Sumar curvas de demanda   \n",
       "3  c_0000c03adc8d                               Nado de aproximação   \n",
       "4  c_00016694ea2a                  geometry-m3-topic-a-overview.pdf   \n",
       "\n",
       "                                         description      kind  \\\n",
       "0  Suma 48,029+233,930 mediante el algoritmo está...     video   \n",
       "1                    Sal trova i fattori di 120.\\n\\n     video   \n",
       "2                  Cómo añadir curvas de demanda\\n\\n     video   \n",
       "3  Neste vídeo você vai aprender o nado de aproxi...  document   \n",
       "4                   geometry-m3-topic-a-overview.pdf  document   \n",
       "\n",
       "                                                text language  \\\n",
       "0                                                NaN       es   \n",
       "1                                                NaN       it   \n",
       "2                                                NaN       es   \n",
       "3  \\nNado de aproximação\\nSaber nadar nas ondas ...       pt   \n",
       "4  Estándares Comunes del Estado de Nueva York\\n\\...       es   \n",
       "\n",
       "   copyright_holder      license  \n",
       "0               NaN          NaN  \n",
       "1               NaN          NaN  \n",
       "2               NaN          NaN  \n",
       "3  Sikana Education  CC BY-NC-ND  \n",
       "4         Engage NY  CC BY-NC-SA  "
      ]
     },
     "execution_count": 3,
     "metadata": {},
     "output_type": "execute_result"
    }
   ],
   "source": [
    "# Loading the data\n",
    "df_content = pd.read_csv(\"./learning-equality-curriculum-recommendations/content.csv\")\n",
    "df_content.head()"
   ]
  },
  {
   "cell_type": "code",
   "execution_count": 4,
   "id": "754fd77d-bc71-41da-96fb-417293c31145",
   "metadata": {},
   "outputs": [],
   "source": [
    "df_content['text'] = df_content['text'].fillna(df_content['description'])\n",
    "df_content['text'] = df_content['text'].fillna(df_content['title'])\n",
    "\n",
    "# \"Create a new column with the first 100 characters\"\n",
    "df_content[text_column] = df_content['text'].str.slice(0, 100)"
   ]
  },
  {
   "cell_type": "code",
   "execution_count": 5,
   "id": "ad841d21-6409-4bcf-b6a6-8cfe02c207c3",
   "metadata": {},
   "outputs": [],
   "source": [
    "# Encoding language labels\n",
    "le = LabelEncoder()\n",
    "df_content[label_columns] = le.fit_transform(df_content['language'])\n",
    "num_classes = df_content[label_columns].nunique()"
   ]
  },
  {
   "cell_type": "code",
   "execution_count": 6,
   "id": "d325f601-1c50-41c9-8037-49839e6c23ef",
   "metadata": {},
   "outputs": [
    {
     "data": {
      "text/html": [
       "<div>\n",
       "<style scoped>\n",
       "    .dataframe tbody tr th:only-of-type {\n",
       "        vertical-align: middle;\n",
       "    }\n",
       "\n",
       "    .dataframe tbody tr th {\n",
       "        vertical-align: top;\n",
       "    }\n",
       "\n",
       "    .dataframe thead th {\n",
       "        text-align: right;\n",
       "    }\n",
       "</style>\n",
       "<table border=\"1\" class=\"dataframe\">\n",
       "  <thead>\n",
       "    <tr style=\"text-align: right;\">\n",
       "      <th></th>\n",
       "      <th>id</th>\n",
       "      <th>title</th>\n",
       "      <th>description</th>\n",
       "      <th>kind</th>\n",
       "      <th>text</th>\n",
       "      <th>language</th>\n",
       "      <th>copyright_holder</th>\n",
       "      <th>license</th>\n",
       "      <th>text_100</th>\n",
       "      <th>lang_id</th>\n",
       "    </tr>\n",
       "  </thead>\n",
       "  <tbody>\n",
       "    <tr>\n",
       "      <th>0</th>\n",
       "      <td>c_00002381196d</td>\n",
       "      <td>Sumar números de varios dígitos: 48,029+233,930</td>\n",
       "      <td>Suma 48,029+233,930 mediante el algoritmo está...</td>\n",
       "      <td>video</td>\n",
       "      <td>Suma 48,029+233,930 mediante el algoritmo está...</td>\n",
       "      <td>es</td>\n",
       "      <td>NaN</td>\n",
       "      <td>NaN</td>\n",
       "      <td>Suma 48,029+233,930 mediante el algoritmo está...</td>\n",
       "      <td>5</td>\n",
       "    </tr>\n",
       "    <tr>\n",
       "      <th>1</th>\n",
       "      <td>c_000087304a9e</td>\n",
       "      <td>Trovare i fattori di un numero</td>\n",
       "      <td>Sal trova i fattori di 120.\\n\\n</td>\n",
       "      <td>video</td>\n",
       "      <td>Sal trova i fattori di 120.\\n\\n</td>\n",
       "      <td>it</td>\n",
       "      <td>NaN</td>\n",
       "      <td>NaN</td>\n",
       "      <td>Sal trova i fattori di 120.\\n\\n</td>\n",
       "      <td>10</td>\n",
       "    </tr>\n",
       "    <tr>\n",
       "      <th>2</th>\n",
       "      <td>c_0000ad142ddb</td>\n",
       "      <td>Sumar curvas de demanda</td>\n",
       "      <td>Cómo añadir curvas de demanda\\n\\n</td>\n",
       "      <td>video</td>\n",
       "      <td>Cómo añadir curvas de demanda\\n\\n</td>\n",
       "      <td>es</td>\n",
       "      <td>NaN</td>\n",
       "      <td>NaN</td>\n",
       "      <td>Cómo añadir curvas de demanda\\n\\n</td>\n",
       "      <td>5</td>\n",
       "    </tr>\n",
       "    <tr>\n",
       "      <th>3</th>\n",
       "      <td>c_0000c03adc8d</td>\n",
       "      <td>Nado de aproximação</td>\n",
       "      <td>Neste vídeo você vai aprender o nado de aproxi...</td>\n",
       "      <td>document</td>\n",
       "      <td>\\nNado de aproximação\\nSaber nadar nas ondas ...</td>\n",
       "      <td>pt</td>\n",
       "      <td>Sikana Education</td>\n",
       "      <td>CC BY-NC-ND</td>\n",
       "      <td>\\nNado de aproximação\\nSaber nadar nas ondas ...</td>\n",
       "      <td>18</td>\n",
       "    </tr>\n",
       "    <tr>\n",
       "      <th>4</th>\n",
       "      <td>c_00016694ea2a</td>\n",
       "      <td>geometry-m3-topic-a-overview.pdf</td>\n",
       "      <td>geometry-m3-topic-a-overview.pdf</td>\n",
       "      <td>document</td>\n",
       "      <td>Estándares Comunes del Estado de Nueva York\\n\\...</td>\n",
       "      <td>es</td>\n",
       "      <td>Engage NY</td>\n",
       "      <td>CC BY-NC-SA</td>\n",
       "      <td>Estándares Comunes del Estado de Nueva York\\n\\...</td>\n",
       "      <td>5</td>\n",
       "    </tr>\n",
       "  </tbody>\n",
       "</table>\n",
       "</div>"
      ],
      "text/plain": [
       "               id                                             title  \\\n",
       "0  c_00002381196d  Sumar números de varios dígitos: 48,029+233,930    \n",
       "1  c_000087304a9e                    Trovare i fattori di un numero   \n",
       "2  c_0000ad142ddb                           Sumar curvas de demanda   \n",
       "3  c_0000c03adc8d                               Nado de aproximação   \n",
       "4  c_00016694ea2a                  geometry-m3-topic-a-overview.pdf   \n",
       "\n",
       "                                         description      kind  \\\n",
       "0  Suma 48,029+233,930 mediante el algoritmo está...     video   \n",
       "1                    Sal trova i fattori di 120.\\n\\n     video   \n",
       "2                  Cómo añadir curvas de demanda\\n\\n     video   \n",
       "3  Neste vídeo você vai aprender o nado de aproxi...  document   \n",
       "4                   geometry-m3-topic-a-overview.pdf  document   \n",
       "\n",
       "                                                text language  \\\n",
       "0  Suma 48,029+233,930 mediante el algoritmo está...       es   \n",
       "1                    Sal trova i fattori di 120.\\n\\n       it   \n",
       "2                  Cómo añadir curvas de demanda\\n\\n       es   \n",
       "3  \\nNado de aproximação\\nSaber nadar nas ondas ...       pt   \n",
       "4  Estándares Comunes del Estado de Nueva York\\n\\...       es   \n",
       "\n",
       "   copyright_holder      license  \\\n",
       "0               NaN          NaN   \n",
       "1               NaN          NaN   \n",
       "2               NaN          NaN   \n",
       "3  Sikana Education  CC BY-NC-ND   \n",
       "4         Engage NY  CC BY-NC-SA   \n",
       "\n",
       "                                            text_100  lang_id  \n",
       "0  Suma 48,029+233,930 mediante el algoritmo está...        5  \n",
       "1                    Sal trova i fattori di 120.\\n\\n       10  \n",
       "2                  Cómo añadir curvas de demanda\\n\\n        5  \n",
       "3  \\nNado de aproximação\\nSaber nadar nas ondas ...       18  \n",
       "4  Estándares Comunes del Estado de Nueva York\\n\\...        5  "
      ]
     },
     "execution_count": 6,
     "metadata": {},
     "output_type": "execute_result"
    }
   ],
   "source": [
    "df_content.head()"
   ]
  },
  {
   "cell_type": "markdown",
   "id": "46f50d24-5c29-4326-9c40-0d50fc86e941",
   "metadata": {},
   "source": [
    "### Tokenizer"
   ]
  },
  {
   "cell_type": "code",
   "execution_count": 7,
   "id": "c9b9411f-c045-4f99-b086-94ff39b9ec45",
   "metadata": {},
   "outputs": [],
   "source": [
    "texts = df_content[text_column].astype(str).values\n",
    "labels = to_categorical(df_content[label_columns], num_classes=num_classes)"
   ]
  },
  {
   "cell_type": "code",
   "execution_count": 8,
   "id": "4c88b3e9-cab4-44a2-adac-7b8ae487bf3b",
   "metadata": {
    "scrolled": true
   },
   "outputs": [
    {
     "name": "stderr",
     "output_type": "stream",
     "text": [
      "2025-07-09 23:35:51.642861: I tensorflow/compiler/xla/stream_executor/cuda/cuda_gpu_executor.cc:995] successful NUMA node read from SysFS had negative value (-1), but there must be at least one NUMA node, so returning NUMA node zero. See more at https://github.com/torvalds/linux/blob/v6.0/Documentation/ABI/testing/sysfs-bus-pci#L344-L355\n",
      "2025-07-09 23:35:51.643007: I tensorflow/compiler/xla/stream_executor/cuda/cuda_gpu_executor.cc:995] successful NUMA node read from SysFS had negative value (-1), but there must be at least one NUMA node, so returning NUMA node zero. See more at https://github.com/torvalds/linux/blob/v6.0/Documentation/ABI/testing/sysfs-bus-pci#L344-L355\n",
      "2025-07-09 23:35:51.659625: I tensorflow/compiler/xla/stream_executor/cuda/cuda_gpu_executor.cc:995] successful NUMA node read from SysFS had negative value (-1), but there must be at least one NUMA node, so returning NUMA node zero. See more at https://github.com/torvalds/linux/blob/v6.0/Documentation/ABI/testing/sysfs-bus-pci#L344-L355\n",
      "2025-07-09 23:35:51.659780: I tensorflow/compiler/xla/stream_executor/cuda/cuda_gpu_executor.cc:995] successful NUMA node read from SysFS had negative value (-1), but there must be at least one NUMA node, so returning NUMA node zero. See more at https://github.com/torvalds/linux/blob/v6.0/Documentation/ABI/testing/sysfs-bus-pci#L344-L355\n",
      "2025-07-09 23:35:51.659900: I tensorflow/compiler/xla/stream_executor/cuda/cuda_gpu_executor.cc:995] successful NUMA node read from SysFS had negative value (-1), but there must be at least one NUMA node, so returning NUMA node zero. See more at https://github.com/torvalds/linux/blob/v6.0/Documentation/ABI/testing/sysfs-bus-pci#L344-L355\n",
      "2025-07-09 23:35:51.660009: I tensorflow/compiler/xla/stream_executor/cuda/cuda_gpu_executor.cc:995] successful NUMA node read from SysFS had negative value (-1), but there must be at least one NUMA node, so returning NUMA node zero. See more at https://github.com/torvalds/linux/blob/v6.0/Documentation/ABI/testing/sysfs-bus-pci#L344-L355\n",
      "2025-07-09 23:35:51.772615: I tensorflow/compiler/xla/stream_executor/cuda/cuda_gpu_executor.cc:995] successful NUMA node read from SysFS had negative value (-1), but there must be at least one NUMA node, so returning NUMA node zero. See more at https://github.com/torvalds/linux/blob/v6.0/Documentation/ABI/testing/sysfs-bus-pci#L344-L355\n",
      "2025-07-09 23:35:51.772769: I tensorflow/compiler/xla/stream_executor/cuda/cuda_gpu_executor.cc:995] successful NUMA node read from SysFS had negative value (-1), but there must be at least one NUMA node, so returning NUMA node zero. See more at https://github.com/torvalds/linux/blob/v6.0/Documentation/ABI/testing/sysfs-bus-pci#L344-L355\n",
      "2025-07-09 23:35:51.772877: I tensorflow/compiler/xla/stream_executor/cuda/cuda_gpu_executor.cc:995] successful NUMA node read from SysFS had negative value (-1), but there must be at least one NUMA node, so returning NUMA node zero. See more at https://github.com/torvalds/linux/blob/v6.0/Documentation/ABI/testing/sysfs-bus-pci#L344-L355\n",
      "2025-07-09 23:35:51.772980: I tensorflow/compiler/xla/stream_executor/cuda/cuda_gpu_executor.cc:995] successful NUMA node read from SysFS had negative value (-1), but there must be at least one NUMA node, so returning NUMA node zero. See more at https://github.com/torvalds/linux/blob/v6.0/Documentation/ABI/testing/sysfs-bus-pci#L344-L355\n",
      "2025-07-09 23:35:51.773080: I tensorflow/compiler/xla/stream_executor/cuda/cuda_gpu_executor.cc:995] successful NUMA node read from SysFS had negative value (-1), but there must be at least one NUMA node, so returning NUMA node zero. See more at https://github.com/torvalds/linux/blob/v6.0/Documentation/ABI/testing/sysfs-bus-pci#L344-L355\n",
      "2025-07-09 23:35:51.773179: I tensorflow/compiler/xla/stream_executor/cuda/cuda_gpu_executor.cc:995] successful NUMA node read from SysFS had negative value (-1), but there must be at least one NUMA node, so returning NUMA node zero. See more at https://github.com/torvalds/linux/blob/v6.0/Documentation/ABI/testing/sysfs-bus-pci#L344-L355\n",
      "2025-07-09 23:35:51.780168: I tensorflow/compiler/xla/stream_executor/cuda/cuda_gpu_executor.cc:995] successful NUMA node read from SysFS had negative value (-1), but there must be at least one NUMA node, so returning NUMA node zero. See more at https://github.com/torvalds/linux/blob/v6.0/Documentation/ABI/testing/sysfs-bus-pci#L344-L355\n",
      "2025-07-09 23:35:51.780293: I tensorflow/compiler/xla/stream_executor/cuda/cuda_gpu_executor.cc:995] successful NUMA node read from SysFS had negative value (-1), but there must be at least one NUMA node, so returning NUMA node zero. See more at https://github.com/torvalds/linux/blob/v6.0/Documentation/ABI/testing/sysfs-bus-pci#L344-L355\n",
      "2025-07-09 23:35:51.780403: I tensorflow/compiler/xla/stream_executor/cuda/cuda_gpu_executor.cc:995] successful NUMA node read from SysFS had negative value (-1), but there must be at least one NUMA node, so returning NUMA node zero. See more at https://github.com/torvalds/linux/blob/v6.0/Documentation/ABI/testing/sysfs-bus-pci#L344-L355\n",
      "2025-07-09 23:35:51.780506: I tensorflow/compiler/xla/stream_executor/cuda/cuda_gpu_executor.cc:995] successful NUMA node read from SysFS had negative value (-1), but there must be at least one NUMA node, so returning NUMA node zero. See more at https://github.com/torvalds/linux/blob/v6.0/Documentation/ABI/testing/sysfs-bus-pci#L344-L355\n",
      "2025-07-09 23:35:51.780609: I tensorflow/compiler/xla/stream_executor/cuda/cuda_gpu_executor.cc:995] successful NUMA node read from SysFS had negative value (-1), but there must be at least one NUMA node, so returning NUMA node zero. See more at https://github.com/torvalds/linux/blob/v6.0/Documentation/ABI/testing/sysfs-bus-pci#L344-L355\n",
      "2025-07-09 23:35:51.780691: I tensorflow/core/common_runtime/gpu/gpu_device.cc:1639] Created device /job:localhost/replica:0/task:0/device:GPU:0 with 10393 MB memory:  -> device: 0, name: NVIDIA GeForce RTX 3060, pci bus id: 0000:02:00.0, compute capability: 8.6\n",
      "2025-07-09 23:35:51.780945: I tensorflow/compiler/xla/stream_executor/cuda/cuda_gpu_executor.cc:995] successful NUMA node read from SysFS had negative value (-1), but there must be at least one NUMA node, so returning NUMA node zero. See more at https://github.com/torvalds/linux/blob/v6.0/Documentation/ABI/testing/sysfs-bus-pci#L344-L355\n",
      "2025-07-09 23:35:51.781024: I tensorflow/core/common_runtime/gpu/gpu_device.cc:1639] Created device /job:localhost/replica:0/task:0/device:GPU:1 with 6677 MB memory:  -> device: 1, name: NVIDIA GeForce RTX 2080 SUPER, pci bus id: 0000:01:00.0, compute capability: 7.5\n"
     ]
    }
   ],
   "source": [
    "tokenizer = AutoTokenizer.from_pretrained(\"bert-base-uncased\")\n",
    "tokens = tokenizer(list(texts), padding='max_length', truncation=True, return_tensors=\"tf\")\n",
    "max_len=tokenizer.model_max_length\n",
    "max_words = tokenizer.vocab_size"
   ]
  },
  {
   "cell_type": "code",
   "execution_count": 9,
   "id": "b073f665-0921-42e2-9a37-a71245e15126",
   "metadata": {},
   "outputs": [],
   "source": [
    "X_seq = tokens[\"input_ids\"].numpy()"
   ]
  },
  {
   "cell_type": "code",
   "execution_count": 10,
   "id": "04705c07-6629-4655-8de9-7b7fbd865dac",
   "metadata": {},
   "outputs": [],
   "source": [
    "# Train/test split\n",
    "X_train, X_test, y_train, y_test = train_test_split(X_seq, labels, test_size=0.2, random_state=SEED)\n",
    "y_train = y_train.astype('float32')\n",
    "y_test = y_test.astype('float32')"
   ]
  },
  {
   "cell_type": "markdown",
   "id": "fc933a97-4d30-4240-ba71-a6773edf4b84",
   "metadata": {},
   "source": [
    "### BLSTM network"
   ]
  },
  {
   "cell_type": "code",
   "execution_count": 11,
   "id": "d7c980ff-f7ab-4d1d-9d4d-89819d500344",
   "metadata": {},
   "outputs": [
    {
     "name": "stdout",
     "output_type": "stream",
     "text": [
      "Model: \"model\"\n",
      "_________________________________________________________________\n",
      " Layer (type)                Output Shape              Param #   \n",
      "=================================================================\n",
      " input_1 (InputLayer)        [(None, 512)]             0         \n",
      "                                                                 \n",
      " embedding (Embedding)       (None, 512, 128)          3906816   \n",
      "                                                                 \n",
      " bidirectional (Bidirection  (None, 512, 128)          98816     \n",
      " al)                                                             \n",
      "                                                                 \n",
      " dropout (Dropout)           (None, 512, 128)          0         \n",
      "                                                                 \n",
      " global_max_pooling1d (Glob  (None, 128)               0         \n",
      " alMaxPooling1D)                                                 \n",
      "                                                                 \n",
      " dense (Dense)               (None, 64)                8256      \n",
      "                                                                 \n",
      " dropout_1 (Dropout)         (None, 64)                0         \n",
      "                                                                 \n",
      " dense_1 (Dense)             (None, 27)                1755      \n",
      "                                                                 \n",
      "=================================================================\n",
      "Total params: 4015643 (15.32 MB)\n",
      "Trainable params: 4015643 (15.32 MB)\n",
      "Non-trainable params: 0 (0.00 Byte)\n",
      "_________________________________________________________________\n"
     ]
    }
   ],
   "source": [
    "input_layer = Input(shape=(max_len,))\n",
    "\n",
    "x = Embedding(input_dim=max_words, output_dim=128,\n",
    "              embeddings_initializer=RandomUniform(seed=SEED))(input_layer)\n",
    "x = Bidirectional(LSTM(64, return_sequences=True,\n",
    "                       kernel_initializer=GlorotUniform(seed=SEED),\n",
    "                       recurrent_initializer=GlorotUniform(seed=SEED),\n",
    "                       bias_initializer='zeros'))(x)\n",
    "x = Dropout(0.3)(x)\n",
    "x = GlobalMaxPool1D()(x)\n",
    "feature_output = x  # Embedding output\n",
    "x = Dense(64, activation='relu',\n",
    "          kernel_initializer=GlorotUniform(seed=SEED),\n",
    "          bias_initializer='zeros')(x)\n",
    "x = Dropout(0.5)(x)\n",
    "output_layer = Dense(num_classes, activation='softmax',\n",
    "                     kernel_initializer=GlorotUniform(seed=SEED),\n",
    "                     bias_initializer='zeros')(x)\n",
    "\n",
    "model = Model(inputs=input_layer, outputs=output_layer)\n",
    "model.compile(\n",
    "    optimizer=Adam(1e-3),\n",
    "    loss='categorical_crossentropy',\n",
    "    metrics=['accuracy']\n",
    ")\n",
    "\n",
    "model.summary()"
   ]
  },
  {
   "cell_type": "code",
   "execution_count": 12,
   "id": "1d71a19f-cb9c-4633-b012-902aca4babcd",
   "metadata": {},
   "outputs": [
    {
     "name": "stdout",
     "output_type": "stream",
     "text": [
      "Epoch 1/5\n"
     ]
    },
    {
     "name": "stderr",
     "output_type": "stream",
     "text": [
      "2025-07-09 23:35:56.324940: I tensorflow/compiler/xla/stream_executor/cuda/cuda_dnn.cc:432] Loaded cuDNN version 8600\n",
      "2025-07-09 23:35:56.341102: I tensorflow/compiler/xla/stream_executor/cuda/cuda_blas.cc:606] TensorFloat-32 will be used for the matrix multiplication. This will only be logged once.\n",
      "2025-07-09 23:35:56.350024: I tensorflow/compiler/xla/service/service.cc:168] XLA service 0x2b796810 initialized for platform CUDA (this does not guarantee that XLA will be used). Devices:\n",
      "2025-07-09 23:35:56.350037: I tensorflow/compiler/xla/service/service.cc:176]   StreamExecutor device (0): NVIDIA GeForce RTX 3060, Compute Capability 8.6\n",
      "2025-07-09 23:35:56.350041: I tensorflow/compiler/xla/service/service.cc:176]   StreamExecutor device (1): NVIDIA GeForce RTX 2080 SUPER, Compute Capability 7.5\n",
      "2025-07-09 23:35:56.353056: I tensorflow/compiler/mlir/tensorflow/utils/dump_mlir_util.cc:255] disabling MLIR crash reproducer, set env var `MLIR_CRASH_REPRODUCER_DIRECTORY` to enable.\n",
      "2025-07-09 23:35:56.435556: I ./tensorflow/compiler/jit/device_compiler.h:186] Compiled cluster using XLA!  This line is logged at most once for the lifetime of the process.\n"
     ]
    },
    {
     "name": "stdout",
     "output_type": "stream",
     "text": [
      "3467/3467 [==============================] - 154s 44ms/step - loss: 0.4659 - accuracy: 0.8873 - val_loss: 0.2447 - val_accuracy: 0.9446\n",
      "Epoch 2/5\n",
      "3467/3467 [==============================] - 124s 36ms/step - loss: 0.2183 - accuracy: 0.9438 - val_loss: 0.1881 - val_accuracy: 0.9508\n",
      "Epoch 3/5\n",
      "3467/3467 [==============================] - 121s 35ms/step - loss: 0.1638 - accuracy: 0.9553 - val_loss: 0.1716 - val_accuracy: 0.9537\n",
      "Epoch 4/5\n",
      "3467/3467 [==============================] - 122s 35ms/step - loss: 0.1352 - accuracy: 0.9609 - val_loss: 0.1705 - val_accuracy: 0.9557\n",
      "Epoch 5/5\n",
      "3467/3467 [==============================] - 121s 35ms/step - loss: 0.1176 - accuracy: 0.9640 - val_loss: 0.1746 - val_accuracy: 0.9547\n"
     ]
    }
   ],
   "source": [
    "# Train the model\n",
    "history = model.fit(\n",
    "    X_train,\n",
    "    y_train,\n",
    "    epochs=EPOCHS,\n",
    "    batch_size=32,\n",
    "    validation_split=0.1,\n",
    ")"
   ]
  },
  {
   "cell_type": "code",
   "execution_count": 13,
   "id": "6c2cc3c6-b30b-49da-bf7e-4323a015977e",
   "metadata": {},
   "outputs": [],
   "source": [
    "train_loss = history.history['loss']\n",
    "train_acc = history.history['accuracy']\n",
    "val_loss = history.history['val_loss']\n",
    "val_acc = history.history['val_accuracy']"
   ]
  },
  {
   "cell_type": "code",
   "execution_count": 14,
   "id": "054e77d4-61f5-4293-805c-677440c444b4",
   "metadata": {},
   "outputs": [
    {
     "data": {
      "image/png": "[encoded data removed]",
      "text/plain": [
       "<Figure size 1200x500 with 2 Axes>"
      ]
     },
     "metadata": {},
     "output_type": "display_data"
    }
   ],
   "source": [
    "epochs = range(1, len(train_loss) + 1)\n",
    "\n",
    "plt.figure(figsize=(12, 5))\n",
    "\n",
    "# Plot of the loss\n",
    "plt.subplot(1, 2, 1)\n",
    "plt.plot(epochs, train_loss, 'b-', label='Training Loss')\n",
    "plt.plot(epochs, val_loss, 'r-', label='Validation Loss')\n",
    "plt.title('Training and Validation Loss')\n",
    "plt.xlabel('Epochs')\n",
    "plt.ylabel('Loss')\n",
    "plt.legend()\n",
    "\n",
    "# Plot of the accuracy\n",
    "plt.subplot(1, 2, 2)\n",
    "plt.plot(epochs, train_acc, 'b-', label='Training Accuracy')\n",
    "plt.plot(epochs, val_acc, 'r-', label='Validation Accuracy')\n",
    "plt.title('Training and Validation Accuracy')\n",
    "plt.xlabel('Epochs')\n",
    "plt.ylabel('Accuracy')\n",
    "plt.legend()\n",
    "\n",
    "plt.show()"
   ]
  },
  {
   "cell_type": "code",
   "execution_count": 15,
   "id": "75a647c5-60a9-477c-95f5-c812636f0fc0",
   "metadata": {},
   "outputs": [
    {
     "name": "stdout",
     "output_type": "stream",
     "text": [
      "Model saved to ./blstm_supervised\n"
     ]
    },
    {
     "name": "stderr",
     "output_type": "stream",
     "text": [
      "/home/rtx/anaconda3/envs/tf2/lib/python3.8/site-packages/keras/src/engine/training.py:3000: UserWarning: You are saving your model as an HDF5 file via `model.save()`. This file format is considered legacy. We recommend using instead the native Keras format, e.g. `model.save('my_model.keras')`.\n",
      "  saving_api.save_model(\n"
     ]
    }
   ],
   "source": [
    "output_dir = \"./blstm_supervised\"\n",
    "os.makedirs(output_dir, exist_ok=True)\n",
    "\n",
    "# Save model and tokenizer\n",
    "model.save(os.path.join(output_dir, \"blstm.h5\"))\n",
    "with open(os.path.join(output_dir, \"tokenizer.pkl\"), \"wb\") as f:\n",
    "    pickle.dump(tokenizer, f)\n",
    "print(f\"Model saved to {output_dir}\")"
   ]
  },
  {
   "cell_type": "code",
   "execution_count": 16,
   "id": "80e1600f-5ea5-4bbb-b315-4dacfa85c70e",
   "metadata": {},
   "outputs": [
    {
     "name": "stdout",
     "output_type": "stream",
     "text": [
      "963/963 [==============================] - 10s 10ms/step\n",
      "=== BLSTM ===\n",
      "              precision    recall  f1-score   support\n",
      "\n",
      "           0       0.99      0.98      0.98      1489\n",
      "           1       0.81      0.82      0.82       137\n",
      "           2       0.99      1.00      0.99      1190\n",
      "           3       0.99      0.90      0.94       505\n",
      "           4       0.97      0.96      0.97     13286\n",
      "           5       0.97      0.95      0.96      6201\n",
      "           6       0.85      0.65      0.74        92\n",
      "           7       0.98      0.99      0.98      2108\n",
      "           8       0.93      0.90      0.91       708\n",
      "           9       0.97      0.85      0.91       819\n",
      "          10       0.90      0.79      0.85       258\n",
      "          11       0.81      0.82      0.82       107\n",
      "          12       0.92      0.78      0.85       105\n",
      "          13       0.86      0.65      0.74       186\n",
      "          14       0.00      0.00      0.00        42\n",
      "          15       0.98      0.71      0.83        63\n",
      "          16       0.97      0.99      0.98        72\n",
      "          17       0.00      0.00      0.00        42\n",
      "          18       0.97      0.97      0.97      2006\n",
      "          19       1.00      0.92      0.96        39\n",
      "          20       0.83      0.69      0.75       305\n",
      "          21       0.85      0.70      0.77        89\n",
      "          22       1.00      0.58      0.73        45\n",
      "          23       1.00      0.67      0.80        49\n",
      "          24       0.97      0.79      0.87        39\n",
      "          25       1.00      0.72      0.84        54\n",
      "          26       1.00      0.97      0.98       774\n",
      "\n",
      "   micro avg       0.97      0.95      0.96     30810\n",
      "   macro avg       0.87      0.77      0.81     30810\n",
      "weighted avg       0.97      0.95      0.96     30810\n",
      " samples avg       0.95      0.95      0.95     30810\n",
      "\n"
     ]
    }
   ],
   "source": [
    "y_pred_prob_blstm = model.predict(X_test, batch_size=32)  # Predict probabilities\n",
    "y_pred_blstm = (y_pred_prob_blstm >= 0.5).astype(int)      # Apply threshold\n",
    "\n",
    "print(\"=== BLSTM ===\")\n",
    "print(classification_report(y_test, y_pred_blstm, zero_division=0))"
   ]
  },
  {
   "cell_type": "markdown",
   "id": "9f56f52e-1fb1-4845-a85f-d533f90cfd06",
   "metadata": {},
   "source": [
    "## Create embedding datasets\n",
    "Creating the datasets for the classifier, both the content and the topics are passed throught the BLSTM"
   ]
  },
  {
   "cell_type": "code",
   "execution_count": 17,
   "id": "02c06420-caee-4737-9d69-0762b0365377",
   "metadata": {},
   "outputs": [],
   "source": [
    "# Create the feature extractor using the trained BLSTM\n",
    "feature_extractor = Model(inputs=input_layer, outputs=feature_output)"
   ]
  },
  {
   "cell_type": "markdown",
   "id": "b47051e3-e4e2-4bdb-8e95-d78a0499d849",
   "metadata": {},
   "source": [
    "### Content Embedding Dataset"
   ]
  },
  {
   "cell_type": "code",
   "execution_count": 18,
   "id": "5d2e1354-9078-46bf-b47d-10c88f3a747e",
   "metadata": {},
   "outputs": [
    {
     "name": "stdout",
     "output_type": "stream",
     "text": [
      "4814/4814 [==============================] - 53s 11ms/step\n"
     ]
    }
   ],
   "source": [
    "X_features = feature_extractor.predict(X_seq, batch_size=32)"
   ]
  },
  {
   "cell_type": "code",
   "execution_count": 19,
   "id": "484a3b6d-d694-4911-836f-2a93a7e7f53d",
   "metadata": {},
   "outputs": [],
   "source": [
    "df = pd.concat([pd.DataFrame(X_features), df_content[[\"id\", \"kind\", \"language\", \"copyright_holder\", \"license\"]]], axis=1)"
   ]
  },
  {
   "cell_type": "code",
   "execution_count": 20,
   "id": "3efa843e-0260-450e-b32e-a06b295862c6",
   "metadata": {},
   "outputs": [
    {
     "data": {
      "text/html": [
       "<div>\n",
       "<style scoped>\n",
       "    .dataframe tbody tr th:only-of-type {\n",
       "        vertical-align: middle;\n",
       "    }\n",
       "\n",
       "    .dataframe tbody tr th {\n",
       "        vertical-align: top;\n",
       "    }\n",
       "\n",
       "    .dataframe thead th {\n",
       "        text-align: right;\n",
       "    }\n",
       "</style>\n",
       "<table border=\"1\" class=\"dataframe\">\n",
       "  <thead>\n",
       "    <tr style=\"text-align: right;\">\n",
       "      <th></th>\n",
       "      <th>0</th>\n",
       "      <th>1</th>\n",
       "      <th>2</th>\n",
       "      <th>3</th>\n",
       "      <th>4</th>\n",
       "      <th>5</th>\n",
       "      <th>6</th>\n",
       "      <th>7</th>\n",
       "      <th>8</th>\n",
       "      <th>9</th>\n",
       "      <th>...</th>\n",
       "      <th>123</th>\n",
       "      <th>124</th>\n",
       "      <th>125</th>\n",
       "      <th>126</th>\n",
       "      <th>127</th>\n",
       "      <th>id</th>\n",
       "      <th>kind</th>\n",
       "      <th>language</th>\n",
       "      <th>copyright_holder</th>\n",
       "      <th>license</th>\n",
       "    </tr>\n",
       "  </thead>\n",
       "  <tbody>\n",
       "    <tr>\n",
       "      <th>0</th>\n",
       "      <td>-0.029045</td>\n",
       "      <td>-0.007918</td>\n",
       "      <td>0.148729</td>\n",
       "      <td>0.052155</td>\n",
       "      <td>-0.019127</td>\n",
       "      <td>0.159318</td>\n",
       "      <td>0.026405</td>\n",
       "      <td>0.044169</td>\n",
       "      <td>0.119432</td>\n",
       "      <td>-0.086094</td>\n",
       "      <td>...</td>\n",
       "      <td>0.01108</td>\n",
       "      <td>0.089207</td>\n",
       "      <td>-0.003463</td>\n",
       "      <td>0.053717</td>\n",
       "      <td>0.162896</td>\n",
       "      <td>c_00002381196d</td>\n",
       "      <td>video</td>\n",
       "      <td>es</td>\n",
       "      <td>NaN</td>\n",
       "      <td>NaN</td>\n",
       "    </tr>\n",
       "  </tbody>\n",
       "</table>\n",
       "<p>1 rows × 133 columns</p>\n",
       "</div>"
      ],
      "text/plain": [
       "          0         1         2         3         4         5         6  \\\n",
       "0 -0.029045 -0.007918  0.148729  0.052155 -0.019127  0.159318  0.026405   \n",
       "\n",
       "          7         8         9  ...      123       124       125       126  \\\n",
       "0  0.044169  0.119432 -0.086094  ...  0.01108  0.089207 -0.003463  0.053717   \n",
       "\n",
       "        127              id   kind  language  copyright_holder  license  \n",
       "0  0.162896  c_00002381196d  video        es               NaN      NaN  \n",
       "\n",
       "[1 rows x 133 columns]"
      ]
     },
     "execution_count": 20,
     "metadata": {},
     "output_type": "execute_result"
    }
   ],
   "source": [
    "df.head(1)"
   ]
  },
  {
   "cell_type": "code",
   "execution_count": 21,
   "id": "077ee6a1-d2a5-4b3a-b67b-53a0af239326",
   "metadata": {},
   "outputs": [],
   "source": [
    "# Saving the content dataset\n",
    "df.to_csv('embedding_content_dataset.csv', index=False)"
   ]
  },
  {
   "cell_type": "markdown",
   "id": "3c7595b1-b1c8-42e1-be49-5cafc94804ad",
   "metadata": {},
   "source": [
    "### Topics Embedding Dataset"
   ]
  },
  {
   "cell_type": "code",
   "execution_count": 22,
   "id": "a03ada08-5065-478d-8eff-e76355324e15",
   "metadata": {},
   "outputs": [],
   "source": [
    "df_topics = pd.read_csv(\"./learning-equality-curriculum-recommendations/topics.csv\")  "
   ]
  },
  {
   "cell_type": "code",
   "execution_count": 23,
   "id": "a570eff8-bc38-4916-b7ca-d15302f10047",
   "metadata": {},
   "outputs": [],
   "source": [
    "df_topics['description'] = df_topics['description'].fillna(df_topics['title'])"
   ]
  },
  {
   "cell_type": "code",
   "execution_count": 24,
   "id": "92a052c0-dc04-48fd-9ea7-9bd7cc9158eb",
   "metadata": {},
   "outputs": [
    {
     "data": {
      "text/html": [
       "<div>\n",
       "<style scoped>\n",
       "    .dataframe tbody tr th:only-of-type {\n",
       "        vertical-align: middle;\n",
       "    }\n",
       "\n",
       "    .dataframe tbody tr th {\n",
       "        vertical-align: top;\n",
       "    }\n",
       "\n",
       "    .dataframe thead th {\n",
       "        text-align: right;\n",
       "    }\n",
       "</style>\n",
       "<table border=\"1\" class=\"dataframe\">\n",
       "  <thead>\n",
       "    <tr style=\"text-align: right;\">\n",
       "      <th></th>\n",
       "      <th>id</th>\n",
       "      <th>title</th>\n",
       "      <th>description</th>\n",
       "      <th>channel</th>\n",
       "      <th>category</th>\n",
       "      <th>level</th>\n",
       "      <th>language</th>\n",
       "      <th>parent</th>\n",
       "      <th>has_content</th>\n",
       "    </tr>\n",
       "  </thead>\n",
       "  <tbody>\n",
       "    <tr>\n",
       "      <th>0</th>\n",
       "      <td>t_00004da3a1b2</td>\n",
       "      <td>Откриването на резисторите</td>\n",
       "      <td>Изследване на материали, които предизвикват на...</td>\n",
       "      <td>000cf7</td>\n",
       "      <td>source</td>\n",
       "      <td>4</td>\n",
       "      <td>bg</td>\n",
       "      <td>t_16e29365b50d</td>\n",
       "      <td>True</td>\n",
       "    </tr>\n",
       "    <tr>\n",
       "      <th>1</th>\n",
       "      <td>t_000095e03056</td>\n",
       "      <td>Unit 3.3 Enlargements and Similarities</td>\n",
       "      <td>Unit 3.3 Enlargements and Similarities</td>\n",
       "      <td>b3f329</td>\n",
       "      <td>aligned</td>\n",
       "      <td>2</td>\n",
       "      <td>en</td>\n",
       "      <td>t_aa32fb6252dc</td>\n",
       "      <td>False</td>\n",
       "    </tr>\n",
       "    <tr>\n",
       "      <th>2</th>\n",
       "      <td>t_00068291e9a4</td>\n",
       "      <td>Entradas e saídas de uma função</td>\n",
       "      <td>Entenda um pouco mais sobre funções.</td>\n",
       "      <td>8e286a</td>\n",
       "      <td>source</td>\n",
       "      <td>4</td>\n",
       "      <td>pt</td>\n",
       "      <td>t_d14b6c2a2b70</td>\n",
       "      <td>True</td>\n",
       "    </tr>\n",
       "    <tr>\n",
       "      <th>3</th>\n",
       "      <td>t_00069b63a70a</td>\n",
       "      <td>Transcripts</td>\n",
       "      <td>Transcripts</td>\n",
       "      <td>6e3ba4</td>\n",
       "      <td>source</td>\n",
       "      <td>3</td>\n",
       "      <td>en</td>\n",
       "      <td>t_4054df11a74e</td>\n",
       "      <td>True</td>\n",
       "    </tr>\n",
       "    <tr>\n",
       "      <th>4</th>\n",
       "      <td>t_0006d41a73a8</td>\n",
       "      <td>Графики на експоненциални функции (Алгебра 2 н...</td>\n",
       "      <td>Научи повече за графиките на сложните показате...</td>\n",
       "      <td>000cf7</td>\n",
       "      <td>source</td>\n",
       "      <td>4</td>\n",
       "      <td>bg</td>\n",
       "      <td>t_e2452e21d252</td>\n",
       "      <td>True</td>\n",
       "    </tr>\n",
       "  </tbody>\n",
       "</table>\n",
       "</div>"
      ],
      "text/plain": [
       "               id                                              title  \\\n",
       "0  t_00004da3a1b2                         Откриването на резисторите   \n",
       "1  t_000095e03056             Unit 3.3 Enlargements and Similarities   \n",
       "2  t_00068291e9a4                    Entradas e saídas de uma função   \n",
       "3  t_00069b63a70a                                        Transcripts   \n",
       "4  t_0006d41a73a8  Графики на експоненциални функции (Алгебра 2 н...   \n",
       "\n",
       "                                         description channel category  level  \\\n",
       "0  Изследване на материали, които предизвикват на...  000cf7   source      4   \n",
       "1             Unit 3.3 Enlargements and Similarities  b3f329  aligned      2   \n",
       "2               Entenda um pouco mais sobre funções.  8e286a   source      4   \n",
       "3                                        Transcripts  6e3ba4   source      3   \n",
       "4  Научи повече за графиките на сложните показате...  000cf7   source      4   \n",
       "\n",
       "  language          parent  has_content  \n",
       "0       bg  t_16e29365b50d         True  \n",
       "1       en  t_aa32fb6252dc        False  \n",
       "2       pt  t_d14b6c2a2b70         True  \n",
       "3       en  t_4054df11a74e         True  \n",
       "4       bg  t_e2452e21d252         True  "
      ]
     },
     "execution_count": 24,
     "metadata": {},
     "output_type": "execute_result"
    }
   ],
   "source": [
    "df_topics.head()"
   ]
  },
  {
   "cell_type": "code",
   "execution_count": 25,
   "id": "007308a6-cc69-49fb-94f2-ae142f99f86e",
   "metadata": {},
   "outputs": [],
   "source": [
    "tokens_topics = tokenizer(list(df_topics[\"description\"].astype(str).values), padding='max_length', truncation=True, return_tensors=\"tf\")\n",
    "X_topics = tokens_topics[\"input_ids\"].numpy()"
   ]
  },
  {
   "cell_type": "code",
   "execution_count": 26,
   "id": "eea4eb96-132f-427b-8374-eb1b9e74705f",
   "metadata": {},
   "outputs": [
    {
     "name": "stdout",
     "output_type": "stream",
     "text": [
      "2406/2406 [==============================] - 20s 8ms/step\n"
     ]
    }
   ],
   "source": [
    "X_features_topics = feature_extractor.predict(X_topics, batch_size=32)"
   ]
  },
  {
   "cell_type": "code",
   "execution_count": 27,
   "id": "e56c4718-bbee-4b9e-8642-83ddac8984f0",
   "metadata": {},
   "outputs": [],
   "source": [
    "df_embedding_topics = pd.concat([pd.DataFrame(X_features_topics), df_topics[[\"id\", \"category\", \"level\", \"language\", \"has_content\"]]], axis=1)"
   ]
  },
  {
   "cell_type": "code",
   "execution_count": 28,
   "id": "2a5599d0-3755-40aa-97cc-a818bddbb2d5",
   "metadata": {},
   "outputs": [
    {
     "data": {
      "text/html": [
       "<div>\n",
       "<style scoped>\n",
       "    .dataframe tbody tr th:only-of-type {\n",
       "        vertical-align: middle;\n",
       "    }\n",
       "\n",
       "    .dataframe tbody tr th {\n",
       "        vertical-align: top;\n",
       "    }\n",
       "\n",
       "    .dataframe thead th {\n",
       "        text-align: right;\n",
       "    }\n",
       "</style>\n",
       "<table border=\"1\" class=\"dataframe\">\n",
       "  <thead>\n",
       "    <tr style=\"text-align: right;\">\n",
       "      <th></th>\n",
       "      <th>0</th>\n",
       "      <th>1</th>\n",
       "      <th>2</th>\n",
       "      <th>3</th>\n",
       "      <th>4</th>\n",
       "      <th>5</th>\n",
       "      <th>6</th>\n",
       "      <th>7</th>\n",
       "      <th>8</th>\n",
       "      <th>9</th>\n",
       "      <th>...</th>\n",
       "      <th>123</th>\n",
       "      <th>124</th>\n",
       "      <th>125</th>\n",
       "      <th>126</th>\n",
       "      <th>127</th>\n",
       "      <th>id</th>\n",
       "      <th>category</th>\n",
       "      <th>level</th>\n",
       "      <th>language</th>\n",
       "      <th>has_content</th>\n",
       "    </tr>\n",
       "  </thead>\n",
       "  <tbody>\n",
       "    <tr>\n",
       "      <th>0</th>\n",
       "      <td>0.270418</td>\n",
       "      <td>0.096776</td>\n",
       "      <td>0.375262</td>\n",
       "      <td>0.034639</td>\n",
       "      <td>0.699114</td>\n",
       "      <td>0.458029</td>\n",
       "      <td>0.119681</td>\n",
       "      <td>0.55922</td>\n",
       "      <td>0.015403</td>\n",
       "      <td>0.912186</td>\n",
       "      <td>...</td>\n",
       "      <td>0.183504</td>\n",
       "      <td>0.234053</td>\n",
       "      <td>0.367849</td>\n",
       "      <td>0.594572</td>\n",
       "      <td>0.051204</td>\n",
       "      <td>t_00004da3a1b2</td>\n",
       "      <td>source</td>\n",
       "      <td>4</td>\n",
       "      <td>bg</td>\n",
       "      <td>True</td>\n",
       "    </tr>\n",
       "  </tbody>\n",
       "</table>\n",
       "<p>1 rows × 133 columns</p>\n",
       "</div>"
      ],
      "text/plain": [
       "          0         1         2         3         4         5         6  \\\n",
       "0  0.270418  0.096776  0.375262  0.034639  0.699114  0.458029  0.119681   \n",
       "\n",
       "         7         8         9  ...       123       124       125       126  \\\n",
       "0  0.55922  0.015403  0.912186  ...  0.183504  0.234053  0.367849  0.594572   \n",
       "\n",
       "        127              id  category  level  language  has_content  \n",
       "0  0.051204  t_00004da3a1b2    source      4        bg         True  \n",
       "\n",
       "[1 rows x 133 columns]"
      ]
     },
     "execution_count": 28,
     "metadata": {},
     "output_type": "execute_result"
    }
   ],
   "source": [
    "df_embedding_topics.head(1)"
   ]
  },
  {
   "cell_type": "code",
   "execution_count": 29,
   "id": "acc7d64a-4588-4236-8d2c-9f8c0432c688",
   "metadata": {},
   "outputs": [],
   "source": [
    "df_embedding_topics.to_csv('embedding_topics_dataset.csv', index=False)"
   ]
  },
  {
   "cell_type": "markdown",
   "id": "0e41521e-cd3e-47c4-807d-bb3b7955dd88",
   "metadata": {},
   "source": [
    "## Classifier"
   ]
  },
  {
   "cell_type": "markdown",
   "id": "58ee6c2f-5dcd-48ca-a3f5-fcee76b54338",
   "metadata": {},
   "source": [
    "### Creating classifier dataset"
   ]
  },
  {
   "cell_type": "code",
   "execution_count": 30,
   "id": "67a007e1-319f-4ddf-aebd-f73927c66130",
   "metadata": {},
   "outputs": [
    {
     "data": {
      "text/html": [
       "<div>\n",
       "<style scoped>\n",
       "    .dataframe tbody tr th:only-of-type {\n",
       "        vertical-align: middle;\n",
       "    }\n",
       "\n",
       "    .dataframe tbody tr th {\n",
       "        vertical-align: top;\n",
       "    }\n",
       "\n",
       "    .dataframe thead th {\n",
       "        text-align: right;\n",
       "    }\n",
       "</style>\n",
       "<table border=\"1\" class=\"dataframe\">\n",
       "  <thead>\n",
       "    <tr style=\"text-align: right;\">\n",
       "      <th></th>\n",
       "      <th>topic_id</th>\n",
       "      <th>content_ids</th>\n",
       "    </tr>\n",
       "  </thead>\n",
       "  <tbody>\n",
       "    <tr>\n",
       "      <th>0</th>\n",
       "      <td>t_00004da3a1b2</td>\n",
       "      <td>c_1108dd0c7a5d c_376c5a8eb028 c_5bc0e1e2cba0 c...</td>\n",
       "    </tr>\n",
       "  </tbody>\n",
       "</table>\n",
       "</div>"
      ],
      "text/plain": [
       "         topic_id                                        content_ids\n",
       "0  t_00004da3a1b2  c_1108dd0c7a5d c_376c5a8eb028 c_5bc0e1e2cba0 c..."
      ]
     },
     "execution_count": 30,
     "metadata": {},
     "output_type": "execute_result"
    }
   ],
   "source": [
    "df_correlations = pd.read_csv(\"./learning-equality-curriculum-recommendations/correlations.csv\")\n",
    "df_correlations.head(1)"
   ]
  },
  {
   "cell_type": "code",
   "execution_count": 31,
   "id": "51b55d89-a08a-44d9-809a-715f5508d18d",
   "metadata": {},
   "outputs": [
    {
     "data": {
      "text/html": [
       "<div>\n",
       "<style scoped>\n",
       "    .dataframe tbody tr th:only-of-type {\n",
       "        vertical-align: middle;\n",
       "    }\n",
       "\n",
       "    .dataframe tbody tr th {\n",
       "        vertical-align: top;\n",
       "    }\n",
       "\n",
       "    .dataframe thead th {\n",
       "        text-align: right;\n",
       "    }\n",
       "</style>\n",
       "<table border=\"1\" class=\"dataframe\">\n",
       "  <thead>\n",
       "    <tr style=\"text-align: right;\">\n",
       "      <th></th>\n",
       "      <th>topic_id</th>\n",
       "      <th>content_ids</th>\n",
       "    </tr>\n",
       "  </thead>\n",
       "  <tbody>\n",
       "    <tr>\n",
       "      <th>0</th>\n",
       "      <td>t_00004da3a1b2</td>\n",
       "      <td>[c_1108dd0c7a5d, c_376c5a8eb028, c_5bc0e1e2cba...</td>\n",
       "    </tr>\n",
       "  </tbody>\n",
       "</table>\n",
       "</div>"
      ],
      "text/plain": [
       "         topic_id                                        content_ids\n",
       "0  t_00004da3a1b2  [c_1108dd0c7a5d, c_376c5a8eb028, c_5bc0e1e2cba..."
      ]
     },
     "execution_count": 31,
     "metadata": {},
     "output_type": "execute_result"
    }
   ],
   "source": [
    "df_correlations['content_ids'] = df_correlations['content_ids'].str.split()\n",
    "df_correlations.head(1)"
   ]
  },
  {
   "cell_type": "code",
   "execution_count": 32,
   "id": "fa5ce061-a13b-452e-a0a6-cb2a01ac5387",
   "metadata": {},
   "outputs": [],
   "source": [
    "df_exploded = df_correlations.explode('content_ids')"
   ]
  },
  {
   "cell_type": "code",
   "execution_count": 33,
   "id": "a511a156-5499-480a-9c05-c4d8757385ab",
   "metadata": {},
   "outputs": [
    {
     "data": {
      "text/html": [
       "<div>\n",
       "<style scoped>\n",
       "    .dataframe tbody tr th:only-of-type {\n",
       "        vertical-align: middle;\n",
       "    }\n",
       "\n",
       "    .dataframe tbody tr th {\n",
       "        vertical-align: top;\n",
       "    }\n",
       "\n",
       "    .dataframe thead th {\n",
       "        text-align: right;\n",
       "    }\n",
       "</style>\n",
       "<table border=\"1\" class=\"dataframe\">\n",
       "  <thead>\n",
       "    <tr style=\"text-align: right;\">\n",
       "      <th></th>\n",
       "      <th>topic_id</th>\n",
       "      <th>content_ids</th>\n",
       "    </tr>\n",
       "  </thead>\n",
       "  <tbody>\n",
       "    <tr>\n",
       "      <th>0</th>\n",
       "      <td>t_00004da3a1b2</td>\n",
       "      <td>c_1108dd0c7a5d</td>\n",
       "    </tr>\n",
       "    <tr>\n",
       "      <th>0</th>\n",
       "      <td>t_00004da3a1b2</td>\n",
       "      <td>c_376c5a8eb028</td>\n",
       "    </tr>\n",
       "    <tr>\n",
       "      <th>0</th>\n",
       "      <td>t_00004da3a1b2</td>\n",
       "      <td>c_5bc0e1e2cba0</td>\n",
       "    </tr>\n",
       "    <tr>\n",
       "      <th>0</th>\n",
       "      <td>t_00004da3a1b2</td>\n",
       "      <td>c_76231f9d0b5e</td>\n",
       "    </tr>\n",
       "    <tr>\n",
       "      <th>1</th>\n",
       "      <td>t_00068291e9a4</td>\n",
       "      <td>c_639ea2ef9c95</td>\n",
       "    </tr>\n",
       "  </tbody>\n",
       "</table>\n",
       "</div>"
      ],
      "text/plain": [
       "         topic_id     content_ids\n",
       "0  t_00004da3a1b2  c_1108dd0c7a5d\n",
       "0  t_00004da3a1b2  c_376c5a8eb028\n",
       "0  t_00004da3a1b2  c_5bc0e1e2cba0\n",
       "0  t_00004da3a1b2  c_76231f9d0b5e\n",
       "1  t_00068291e9a4  c_639ea2ef9c95"
      ]
     },
     "execution_count": 33,
     "metadata": {},
     "output_type": "execute_result"
    }
   ],
   "source": [
    "df_exploded.head()"
   ]
  },
  {
   "cell_type": "code",
   "execution_count": 34,
   "id": "7a945fbb-7c09-462f-9124-cd2981846765",
   "metadata": {},
   "outputs": [],
   "source": [
    "all_topics = df_exploded['topic_id'].unique().tolist()"
   ]
  },
  {
   "cell_type": "code",
   "execution_count": 35,
   "id": "ba4df1a5-0835-4005-8ca5-d37b5b0b8c6e",
   "metadata": {},
   "outputs": [],
   "source": [
    "# Matching set for fast access\n",
    "match_set = set(zip(df_exploded['content_ids'], df_exploded['topic_id']))"
   ]
  },
  {
   "cell_type": "code",
   "execution_count": 36,
   "id": "98a77358-93c4-4a4f-956d-3ee5ac3ebd7b",
   "metadata": {},
   "outputs": [],
   "source": [
    "# Creating the positive samples with the correlations provided\n",
    "pos_df = df_exploded.copy()\n",
    "pos_df['label'] = 1"
   ]
  },
  {
   "cell_type": "code",
   "execution_count": 37,
   "id": "f15c8d76-92ee-4759-aa5d-efbde8153fef",
   "metadata": {},
   "outputs": [
    {
     "name": "stdout",
     "output_type": "stream",
     "text": [
      "Generating negative samples...\n"
     ]
    },
    {
     "name": "stderr",
     "output_type": "stream",
     "text": [
      "100%|███████████████████████████████████████████████████████████████████████████████████████████| 154047/154047 [01:35<00:00, 1615.64it/s]\n"
     ]
    }
   ],
   "source": [
    "topic_to_idx = {t: i for i, t in enumerate(all_topics)}\n",
    "\n",
    "# Creating a dictionary for fast access \n",
    "content_pos_topics = df_exploded.groupby('content_ids')['topic_id'].apply(set).to_dict()\n",
    "k_neg = 5  # negativos por positivo\n",
    "neg_samples = []\n",
    "\n",
    "content_ids = df['id'].values\n",
    "num_topics = len(all_topics)\n",
    "print(\"Generating negative samples...\")\n",
    "\n",
    "for content_id in tqdm(content_ids):\n",
    "    pos_topics = content_pos_topics.get(content_id, set())\n",
    "    \n",
    "    # Boolean mask for positive topics\n",
    "    mask = np.ones(num_topics, dtype=bool)\n",
    "    pos_idx = [topic_to_idx[t] for t in pos_topics if t in topic_to_idx]\n",
    "    mask[pos_idx] = False\n",
    "    \n",
    "    # Indices de topics negativos posibles\n",
    "    neg_indices = np.where(mask)[0]\n",
    "    \n",
    "    if len(neg_indices) < k_neg:\n",
    "        continue\n",
    "    \n",
    "    # Topics for negative sample\n",
    "    sampled_neg_idx = np.random.choice(neg_indices, size=k_neg, replace=False)\n",
    "    sampled_neg_topics = [all_topics[i] for i in sampled_neg_idx]\n",
    "    \n",
    "    for topic in sampled_neg_topics:\n",
    "        neg_samples.append((content_id, topic, 0))\n",
    "\n",
    "neg_df = pd.DataFrame(neg_samples, columns=['content_ids', 'topic_id', 'label'])"
   ]
  },
  {
   "cell_type": "code",
   "execution_count": 38,
   "id": "a68a3daf-f275-4d13-85c7-d2f9b4160c7b",
   "metadata": {},
   "outputs": [],
   "source": [
    "# concatenate positive and negative samples for the dataset\n",
    "all_pairs = pd.concat([\n",
    "    pos_df[['content_ids', 'topic_id', 'label']],\n",
    "    neg_df\n",
    "])\n",
    "\n",
    "all_pairs = all_pairs.sample(frac=1, random_state=SEED).reset_index(drop=True)"
   ]
  },
  {
   "cell_type": "code",
   "execution_count": 39,
   "id": "ddacd3c9-64a1-43b2-949f-3a9793f1ebb3",
   "metadata": {},
   "outputs": [
    {
     "data": {
      "text/html": [
       "<div>\n",
       "<style scoped>\n",
       "    .dataframe tbody tr th:only-of-type {\n",
       "        vertical-align: middle;\n",
       "    }\n",
       "\n",
       "    .dataframe tbody tr th {\n",
       "        vertical-align: top;\n",
       "    }\n",
       "\n",
       "    .dataframe thead th {\n",
       "        text-align: right;\n",
       "    }\n",
       "</style>\n",
       "<table border=\"1\" class=\"dataframe\">\n",
       "  <thead>\n",
       "    <tr style=\"text-align: right;\">\n",
       "      <th></th>\n",
       "      <th>content_ids</th>\n",
       "      <th>topic_id</th>\n",
       "      <th>label</th>\n",
       "    </tr>\n",
       "  </thead>\n",
       "  <tbody>\n",
       "    <tr>\n",
       "      <th>0</th>\n",
       "      <td>c_083f000358e3</td>\n",
       "      <td>t_b91213331a9b</td>\n",
       "      <td>0</td>\n",
       "    </tr>\n",
       "    <tr>\n",
       "      <th>1</th>\n",
       "      <td>c_7d6e11ae72a4</td>\n",
       "      <td>t_f5bdaf35cc07</td>\n",
       "      <td>0</td>\n",
       "    </tr>\n",
       "    <tr>\n",
       "      <th>2</th>\n",
       "      <td>c_63f65fd7a509</td>\n",
       "      <td>t_a2c514a788b5</td>\n",
       "      <td>1</td>\n",
       "    </tr>\n",
       "    <tr>\n",
       "      <th>3</th>\n",
       "      <td>c_28cb046ac5a8</td>\n",
       "      <td>t_67665e1d4e18</td>\n",
       "      <td>0</td>\n",
       "    </tr>\n",
       "    <tr>\n",
       "      <th>4</th>\n",
       "      <td>c_b8bd65823bbb</td>\n",
       "      <td>t_c8c925d2cbb1</td>\n",
       "      <td>1</td>\n",
       "    </tr>\n",
       "  </tbody>\n",
       "</table>\n",
       "</div>"
      ],
      "text/plain": [
       "      content_ids        topic_id  label\n",
       "0  c_083f000358e3  t_b91213331a9b      0\n",
       "1  c_7d6e11ae72a4  t_f5bdaf35cc07      0\n",
       "2  c_63f65fd7a509  t_a2c514a788b5      1\n",
       "3  c_28cb046ac5a8  t_67665e1d4e18      0\n",
       "4  c_b8bd65823bbb  t_c8c925d2cbb1      1"
      ]
     },
     "execution_count": 39,
     "metadata": {},
     "output_type": "execute_result"
    }
   ],
   "source": [
    "all_pairs.head()"
   ]
  },
  {
   "cell_type": "code",
   "execution_count": 40,
   "id": "7b560e55-5b04-4072-9c1c-b7f79433ad7e",
   "metadata": {},
   "outputs": [],
   "source": [
    "# Add all the information from the content\n",
    "all_data = all_pairs.merge(df, left_on='content_ids', right_on = 'id', how='left')"
   ]
  },
  {
   "cell_type": "code",
   "execution_count": 41,
   "id": "98f43f01-74e9-4691-905d-65ee8634263e",
   "metadata": {},
   "outputs": [],
   "source": [
    "# Add all the information form topic\n",
    "all_data = all_data.merge(df_embedding_topics, left_on='topic_id', right_on='id', how='left', suffixes=('_content' ,'_topic'))"
   ]
  },
  {
   "cell_type": "code",
   "execution_count": 42,
   "id": "af53900a-86a8-4316-a59a-a99d28ae0b4e",
   "metadata": {},
   "outputs": [
    {
     "data": {
      "text/html": [
       "<div>\n",
       "<style scoped>\n",
       "    .dataframe tbody tr th:only-of-type {\n",
       "        vertical-align: middle;\n",
       "    }\n",
       "\n",
       "    .dataframe tbody tr th {\n",
       "        vertical-align: top;\n",
       "    }\n",
       "\n",
       "    .dataframe thead th {\n",
       "        text-align: right;\n",
       "    }\n",
       "</style>\n",
       "<table border=\"1\" class=\"dataframe\">\n",
       "  <thead>\n",
       "    <tr style=\"text-align: right;\">\n",
       "      <th></th>\n",
       "      <th>content_ids</th>\n",
       "      <th>topic_id</th>\n",
       "      <th>label</th>\n",
       "      <th>0_content</th>\n",
       "      <th>1_content</th>\n",
       "      <th>2_content</th>\n",
       "      <th>3_content</th>\n",
       "      <th>4_content</th>\n",
       "      <th>5_content</th>\n",
       "      <th>6_content</th>\n",
       "      <th>...</th>\n",
       "      <th>123_topic</th>\n",
       "      <th>124_topic</th>\n",
       "      <th>125_topic</th>\n",
       "      <th>126_topic</th>\n",
       "      <th>127_topic</th>\n",
       "      <th>id_topic</th>\n",
       "      <th>category</th>\n",
       "      <th>level</th>\n",
       "      <th>language_topic</th>\n",
       "      <th>has_content</th>\n",
       "    </tr>\n",
       "  </thead>\n",
       "  <tbody>\n",
       "    <tr>\n",
       "      <th>0</th>\n",
       "      <td>c_083f000358e3</td>\n",
       "      <td>t_b91213331a9b</td>\n",
       "      <td>0</td>\n",
       "      <td>0.685912</td>\n",
       "      <td>0.118823</td>\n",
       "      <td>0.798488</td>\n",
       "      <td>0.030272</td>\n",
       "      <td>0.691047</td>\n",
       "      <td>0.086281</td>\n",
       "      <td>0.204150</td>\n",
       "      <td>...</td>\n",
       "      <td>0.062866</td>\n",
       "      <td>0.405428</td>\n",
       "      <td>0.129132</td>\n",
       "      <td>0.577228</td>\n",
       "      <td>0.026053</td>\n",
       "      <td>t_b91213331a9b</td>\n",
       "      <td>source</td>\n",
       "      <td>4</td>\n",
       "      <td>bg</td>\n",
       "      <td>True</td>\n",
       "    </tr>\n",
       "    <tr>\n",
       "      <th>1</th>\n",
       "      <td>c_7d6e11ae72a4</td>\n",
       "      <td>t_f5bdaf35cc07</td>\n",
       "      <td>0</td>\n",
       "      <td>0.686157</td>\n",
       "      <td>0.011534</td>\n",
       "      <td>0.280021</td>\n",
       "      <td>0.058840</td>\n",
       "      <td>0.750983</td>\n",
       "      <td>0.061573</td>\n",
       "      <td>0.020864</td>\n",
       "      <td>...</td>\n",
       "      <td>0.074142</td>\n",
       "      <td>0.070906</td>\n",
       "      <td>0.535933</td>\n",
       "      <td>-0.024203</td>\n",
       "      <td>0.267768</td>\n",
       "      <td>t_f5bdaf35cc07</td>\n",
       "      <td>aligned</td>\n",
       "      <td>4</td>\n",
       "      <td>en</td>\n",
       "      <td>True</td>\n",
       "    </tr>\n",
       "    <tr>\n",
       "      <th>2</th>\n",
       "      <td>c_63f65fd7a509</td>\n",
       "      <td>t_a2c514a788b5</td>\n",
       "      <td>1</td>\n",
       "      <td>0.352810</td>\n",
       "      <td>-0.023795</td>\n",
       "      <td>0.250078</td>\n",
       "      <td>0.032359</td>\n",
       "      <td>0.475884</td>\n",
       "      <td>0.033221</td>\n",
       "      <td>0.016234</td>\n",
       "      <td>...</td>\n",
       "      <td>0.420556</td>\n",
       "      <td>-0.016604</td>\n",
       "      <td>-0.016789</td>\n",
       "      <td>-0.027947</td>\n",
       "      <td>0.014673</td>\n",
       "      <td>t_a2c514a788b5</td>\n",
       "      <td>source</td>\n",
       "      <td>2</td>\n",
       "      <td>en</td>\n",
       "      <td>True</td>\n",
       "    </tr>\n",
       "    <tr>\n",
       "      <th>3</th>\n",
       "      <td>c_28cb046ac5a8</td>\n",
       "      <td>t_67665e1d4e18</td>\n",
       "      <td>0</td>\n",
       "      <td>0.878607</td>\n",
       "      <td>0.026717</td>\n",
       "      <td>0.543181</td>\n",
       "      <td>0.030895</td>\n",
       "      <td>0.880961</td>\n",
       "      <td>0.362182</td>\n",
       "      <td>0.088685</td>\n",
       "      <td>...</td>\n",
       "      <td>0.358192</td>\n",
       "      <td>0.594417</td>\n",
       "      <td>0.616691</td>\n",
       "      <td>0.404807</td>\n",
       "      <td>0.051293</td>\n",
       "      <td>t_67665e1d4e18</td>\n",
       "      <td>source</td>\n",
       "      <td>5</td>\n",
       "      <td>en</td>\n",
       "      <td>True</td>\n",
       "    </tr>\n",
       "    <tr>\n",
       "      <th>4</th>\n",
       "      <td>c_b8bd65823bbb</td>\n",
       "      <td>t_c8c925d2cbb1</td>\n",
       "      <td>1</td>\n",
       "      <td>0.194232</td>\n",
       "      <td>-0.003173</td>\n",
       "      <td>0.854552</td>\n",
       "      <td>0.034785</td>\n",
       "      <td>0.308467</td>\n",
       "      <td>0.022273</td>\n",
       "      <td>0.011595</td>\n",
       "      <td>...</td>\n",
       "      <td>0.688523</td>\n",
       "      <td>0.099294</td>\n",
       "      <td>0.668607</td>\n",
       "      <td>0.134442</td>\n",
       "      <td>0.014673</td>\n",
       "      <td>t_c8c925d2cbb1</td>\n",
       "      <td>source</td>\n",
       "      <td>4</td>\n",
       "      <td>en</td>\n",
       "      <td>True</td>\n",
       "    </tr>\n",
       "  </tbody>\n",
       "</table>\n",
       "<p>5 rows × 269 columns</p>\n",
       "</div>"
      ],
      "text/plain": [
       "      content_ids        topic_id  label  0_content  1_content  2_content  \\\n",
       "0  c_083f000358e3  t_b91213331a9b      0   0.685912   0.118823   0.798488   \n",
       "1  c_7d6e11ae72a4  t_f5bdaf35cc07      0   0.686157   0.011534   0.280021   \n",
       "2  c_63f65fd7a509  t_a2c514a788b5      1   0.352810  -0.023795   0.250078   \n",
       "3  c_28cb046ac5a8  t_67665e1d4e18      0   0.878607   0.026717   0.543181   \n",
       "4  c_b8bd65823bbb  t_c8c925d2cbb1      1   0.194232  -0.003173   0.854552   \n",
       "\n",
       "   3_content  4_content  5_content  6_content  ...  123_topic  124_topic  \\\n",
       "0   0.030272   0.691047   0.086281   0.204150  ...   0.062866   0.405428   \n",
       "1   0.058840   0.750983   0.061573   0.020864  ...   0.074142   0.070906   \n",
       "2   0.032359   0.475884   0.033221   0.016234  ...   0.420556  -0.016604   \n",
       "3   0.030895   0.880961   0.362182   0.088685  ...   0.358192   0.594417   \n",
       "4   0.034785   0.308467   0.022273   0.011595  ...   0.688523   0.099294   \n",
       "\n",
       "   125_topic  126_topic  127_topic        id_topic  category  level  \\\n",
       "0   0.129132   0.577228   0.026053  t_b91213331a9b    source      4   \n",
       "1   0.535933  -0.024203   0.267768  t_f5bdaf35cc07   aligned      4   \n",
       "2  -0.016789  -0.027947   0.014673  t_a2c514a788b5    source      2   \n",
       "3   0.616691   0.404807   0.051293  t_67665e1d4e18    source      5   \n",
       "4   0.668607   0.134442   0.014673  t_c8c925d2cbb1    source      4   \n",
       "\n",
       "   language_topic  has_content  \n",
       "0              bg         True  \n",
       "1              en         True  \n",
       "2              en         True  \n",
       "3              en         True  \n",
       "4              en         True  \n",
       "\n",
       "[5 rows x 269 columns]"
      ]
     },
     "execution_count": 42,
     "metadata": {},
     "output_type": "execute_result"
    }
   ],
   "source": [
    "all_data.head()"
   ]
  },
  {
   "cell_type": "code",
   "execution_count": 43,
   "id": "b211ae51-7246-4a72-9272-610ca0f47c3c",
   "metadata": {},
   "outputs": [],
   "source": [
    "categorical_cols = [\n",
    "    \"kind\",\n",
    "    \"language_content\",\n",
    "    \"copyright_holder\",\n",
    "    \"license\",\n",
    "    \"category\",\n",
    "    \"language_topic\"\n",
    "]\n",
    "\n",
    "for col in categorical_cols:\n",
    "    all_data[col] = all_data[col].astype(\"category\")"
   ]
  },
  {
   "cell_type": "code",
   "execution_count": 44,
   "id": "42745482-d9cf-4922-a8b9-4ab0730c51d8",
   "metadata": {},
   "outputs": [],
   "source": [
    "# Creating X and y \n",
    "X = all_data.drop(columns=['content_ids', 'topic_id', 'id_content', 'id_topic', 'label'])\n",
    "y = all_data['label']"
   ]
  },
  {
   "cell_type": "markdown",
   "id": "c3549385-0849-421b-b92c-36c39576d3f3",
   "metadata": {},
   "source": [
    "### Creating LightGBM pairwise binary classifier"
   ]
  },
  {
   "cell_type": "code",
   "execution_count": 45,
   "id": "ab7e3c9d-a451-402e-99bb-02f91024db44",
   "metadata": {},
   "outputs": [
    {
     "name": "stderr",
     "output_type": "stream",
     "text": [
      "huggingface/tokenizers: The current process just got forked, after parallelism has already been used. Disabling parallelism to avoid deadlocks...\n",
      "To disable this warning, you can either:\n",
      "\t- Avoid using `tokenizers` before the fork if possible\n",
      "\t- Explicitly set the environment variable TOKENIZERS_PARALLELISM=(true | false)\n"
     ]
    },
    {
     "name": "stdout",
     "output_type": "stream",
     "text": [
      "[LightGBM] [Info] Number of positive: 224228, number of negative: 615895\n",
      "[LightGBM] [Info] Auto-choosing col-wise multi-threading, the overhead of testing was 0.280162 seconds.\n",
      "You can set `force_col_wise=true` to remove the overhead.\n",
      "[LightGBM] [Info] Total Bins 65450\n",
      "[LightGBM] [Info] Number of data points in the train set: 840123, number of used features: 263\n",
      "[LightGBM] [Info] [binary:BoostFromScore]: pavg=0.266899 -> initscore=-1.010413\n",
      "[LightGBM] [Info] Start training from score -1.010413\n"
     ]
    },
    {
     "data": {
      "text/html": [
       "<style>#sk-container-id-1 {color: black;}#sk-container-id-1 pre{padding: 0;}#sk-container-id-1 div.sk-toggleable {background-color: white;}#sk-container-id-1 label.sk-toggleable__label {cursor: pointer;display: block;width: 100%;margin-bottom: 0;padding: 0.3em;box-sizing: border-box;text-align: center;}#sk-container-id-1 label.sk-toggleable__label-arrow:before {content: \"▸\";float: left;margin-right: 0.25em;color: #696969;}#sk-container-id-1 label.sk-toggleable__label-arrow:hover:before {color: black;}#sk-container-id-1 div.sk-estimator:hover label.sk-toggleable__label-arrow:before {color: black;}#sk-container-id-1 div.sk-toggleable__content {max-height: 0;max-width: 0;overflow: hidden;text-align: left;background-color: #f0f8ff;}#sk-container-id-1 div.sk-toggleable__content pre {margin: 0.2em;color: black;border-radius: 0.25em;background-color: #f0f8ff;}#sk-container-id-1 input.sk-toggleable__control:checked~div.sk-toggleable__content {max-height: 200px;max-width: 100%;overflow: auto;}#sk-container-id-1 input.sk-toggleable__control:checked~label.sk-toggleable__label-arrow:before {content: \"▾\";}#sk-container-id-1 div.sk-estimator input.sk-toggleable__control:checked~label.sk-toggleable__label {background-color: #d4ebff;}#sk-container-id-1 div.sk-label input.sk-toggleable__control:checked~label.sk-toggleable__label {background-color: #d4ebff;}#sk-container-id-1 input.sk-hidden--visually {border: 0;clip: rect(1px 1px 1px 1px);clip: rect(1px, 1px, 1px, 1px);height: 1px;margin: -1px;overflow: hidden;padding: 0;position: absolute;width: 1px;}#sk-container-id-1 div.sk-estimator {font-family: monospace;background-color: #f0f8ff;border: 1px dotted black;border-radius: 0.25em;box-sizing: border-box;margin-bottom: 0.5em;}#sk-container-id-1 div.sk-estimator:hover {background-color: #d4ebff;}#sk-container-id-1 div.sk-parallel-item::after {content: \"\";width: 100%;border-bottom: 1px solid gray;flex-grow: 1;}#sk-container-id-1 div.sk-label:hover label.sk-toggleable__label {background-color: #d4ebff;}#sk-container-id-1 div.sk-serial::before {content: \"\";position: absolute;border-left: 1px solid gray;box-sizing: border-box;top: 0;bottom: 0;left: 50%;z-index: 0;}#sk-container-id-1 div.sk-serial {display: flex;flex-direction: column;align-items: center;background-color: white;padding-right: 0.2em;padding-left: 0.2em;position: relative;}#sk-container-id-1 div.sk-item {position: relative;z-index: 1;}#sk-container-id-1 div.sk-parallel {display: flex;align-items: stretch;justify-content: center;background-color: white;position: relative;}#sk-container-id-1 div.sk-item::before, #sk-container-id-1 div.sk-parallel-item::before {content: \"\";position: absolute;border-left: 1px solid gray;box-sizing: border-box;top: 0;bottom: 0;left: 50%;z-index: -1;}#sk-container-id-1 div.sk-parallel-item {display: flex;flex-direction: column;z-index: 1;position: relative;background-color: white;}#sk-container-id-1 div.sk-parallel-item:first-child::after {align-self: flex-end;width: 50%;}#sk-container-id-1 div.sk-parallel-item:last-child::after {align-self: flex-start;width: 50%;}#sk-container-id-1 div.sk-parallel-item:only-child::after {width: 0;}#sk-container-id-1 div.sk-dashed-wrapped {border: 1px dashed gray;margin: 0 0.4em 0.5em 0.4em;box-sizing: border-box;padding-bottom: 0.4em;background-color: white;}#sk-container-id-1 div.sk-label label {font-family: monospace;font-weight: bold;display: inline-block;line-height: 1.2em;}#sk-container-id-1 div.sk-label-container {text-align: center;}#sk-container-id-1 div.sk-container {/* jupyter's `normalize.less` sets `[hidden] { display: none; }` but bootstrap.min.css set `[hidden] { display: none !important; }` so we also need the `!important` here to be able to override the default hidden behavior on the sphinx rendered scikit-learn.org. See: https://github.com/scikit-learn/scikit-learn/issues/21755 */display: inline-block !important;position: relative;}#sk-container-id-1 div.sk-text-repr-fallback {display: none;}</style><div id=\"sk-container-id-1\" class=\"sk-top-container\"><div class=\"sk-text-repr-fallback\"><pre>LGBMClassifier(learning_rate=0.05, objective=&#x27;binary&#x27;, random_state=42)</pre><b>In a Jupyter environment, please rerun this cell to show the HTML representation or trust the notebook. <br />On GitHub, the HTML representation is unable to render, please try loading this page with nbviewer.org.</b></div><div class=\"sk-container\" hidden><div class=\"sk-item\"><div class=\"sk-estimator sk-toggleable\"><input class=\"sk-toggleable__control sk-hidden--visually\" id=\"sk-estimator-id-1\" type=\"checkbox\" checked><label for=\"sk-estimator-id-1\" class=\"sk-toggleable__label sk-toggleable__label-arrow\">LGBMClassifier</label><div class=\"sk-toggleable__content\"><pre>LGBMClassifier(learning_rate=0.05, objective=&#x27;binary&#x27;, random_state=42)</pre></div></div></div></div></div>"
      ],
      "text/plain": [
       "LGBMClassifier(learning_rate=0.05, objective='binary', random_state=42)"
      ]
     },
     "execution_count": 45,
     "metadata": {},
     "output_type": "execute_result"
    }
   ],
   "source": [
    "X_train_lgb, X_val_lgb, y_train_lgb, y_val_lgb = train_test_split(X, y, test_size=0.2, random_state=SEED)\n",
    "\n",
    "model_lgb = LGBMClassifier(\n",
    "    objective='binary',\n",
    "    learning_rate=0.05,\n",
    "    n_estimators=100,\n",
    "    random_state=SEED\n",
    ")\n",
    "\n",
    "model_lgb.fit(X_train_lgb, y_train_lgb)"
   ]
  },
  {
   "cell_type": "code",
   "execution_count": 46,
   "id": "ed003e8c-8487-456a-a2a6-6ffd249878a5",
   "metadata": {},
   "outputs": [
    {
     "name": "stdout",
     "output_type": "stream",
     "text": [
      "F1 Score: 0.8577\n",
      "AUC: 0.9745\n"
     ]
    }
   ],
   "source": [
    "# Evaluate\n",
    "y_pred = model_lgb.predict(X_val_lgb)\n",
    "y_prob = model_lgb.predict_proba(X_val_lgb)[:, 1]\n",
    "\n",
    "print(f'F1 Score: {f1_score(y_val_lgb, y_pred):.4f}')\n",
    "print(f'AUC: {roc_auc_score(y_val_lgb, y_prob):.4f}')"
   ]
  },
  {
   "cell_type": "code",
   "execution_count": 47,
   "id": "13cc8840-69cf-4de4-903c-cb03d563a18e",
   "metadata": {},
   "outputs": [],
   "source": [
    "with open(\"model_lgb.pkl\", \"wb\") as f:\n",
    "    pickle.dump(model_lgb, f)"
   ]
  },
  {
   "cell_type": "code",
   "execution_count": 48,
   "id": "13ab1b34-ed46-47d4-b95b-5ae12820578a",
   "metadata": {},
   "outputs": [
    {
     "name": "stdout",
     "output_type": "stream",
     "text": [
      "=== LightGBM ===\n",
      "              precision    recall  f1-score   support\n",
      "\n",
      "           0       0.96      0.94      0.95    154340\n",
      "           1       0.84      0.88      0.86     55691\n",
      "\n",
      "    accuracy                           0.92    210031\n",
      "   macro avg       0.90      0.91      0.90    210031\n",
      "weighted avg       0.92      0.92      0.92    210031\n",
      "\n"
     ]
    }
   ],
   "source": [
    "print(\"=== LightGBM ===\")\n",
    "print(classification_report(y_val_lgb, y_pred, zero_division=0))"
   ]
  },
  {
   "cell_type": "code",
   "execution_count": null,
   "id": "e9e57b60-95af-45a0-9d57-eb82d60a1c6f",
   "metadata": {},
   "outputs": [],
   "source": []
  }
 ],
 "metadata": {
  "kernelspec": {
   "display_name": "Python 3 (ipykernel)",
   "language": "python",
   "name": "python3"
  },
  "language_info": {
   "codemirror_mode": {
    "name": "ipython",
    "version": 3
   },
   "file_extension": ".py",
   "mimetype": "text/x-python",
   "name": "python",
   "nbconvert_exporter": "python",
   "pygments_lexer": "ipython3",
   "version": "3.8.19"
  }
 },
 "nbformat": 4,
 "nbformat_minor": 5
}
