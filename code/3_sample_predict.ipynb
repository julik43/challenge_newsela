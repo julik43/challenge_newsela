{
 "cells": [
  {
   "cell_type": "markdown",
   "id": "60acccd3-160b-4bf7-aac8-c38bf5b822df",
   "metadata": {},
   "source": [
    "# Sample Prediction\n",
    "\n",
    "A sample prediction can be performed using the `predict_template.py` file. This script loads a sample input and makes a topic prediction.\n",
    "\n",
    "The `TopicPredictor` class loads the model trained in `2_blstm_and_classifier.ipynb`. It provides a `predict` method that takes a `content_id` and a `threshold` as inputs, and returns a list of predicted `topic_ids` that are correlated with the content."
   ]
  },
  {
   "cell_type": "code",
   "execution_count": 1,
   "id": "0128f64f-75ff-4ae6-9e9c-72f143af3a35",
   "metadata": {},
   "outputs": [],
   "source": [
    "from predict_template import TopicPredictor"
   ]
  },
  {
   "cell_type": "code",
   "execution_count": 2,
   "id": "0caa8056-b74d-47b9-a12e-39093907076e",
   "metadata": {},
   "outputs": [],
   "source": [
    "predictor = TopicPredictor()"
   ]
  },
  {
   "cell_type": "code",
   "execution_count": 3,
   "id": "f5ee3a4d-33ed-4c78-b9ae-ec6e2fca71cc",
   "metadata": {},
   "outputs": [
    {
     "name": "stdout",
     "output_type": "stream",
     "text": [
      "Predicted topics: ['t_0045860ed294', 't_008685d1f56e', 't_0157009d18dd', 't_08a673655246', 't_08f588dab2f4', 't_09729c2c8e4d', 't_0ada3b72cdd9', 't_0c4ee9b59a18', 't_0d8d5a338785', 't_0e0dbacb2ecf', 't_0ec607e138c8', 't_0edba8efa304', 't_0f3a7cb5b7f1', 't_0f43a1be600e', 't_1120204ffb2f', 't_12e9619236d9', 't_138e175cded9', 't_15f283430434', 't_16231c4280b8', 't_169767417f6b', 't_16a1070b9602', 't_17c3b6419686', 't_17d3da92aa60', 't_18767738e8b8', 't_188677aba32b', 't_19ca8efa93ec', 't_19d321ccc774', 't_19e7744694a2', 't_1a19e8668ef5', 't_1bb824ee2a7f', 't_1bc6338344dd', 't_1bde6fdf32a9', 't_1c23de88d846', 't_1d45fed2785b', 't_1f898d050e38', 't_218057c8adef', 't_240cc942552e', 't_26a45a365134', 't_26c581e2be48', 't_27605d22bf3f', 't_27decb313886', 't_29b0eeb93521', 't_29e3c37057e1', 't_2a104c99e9f4', 't_2b5b065bc955', 't_2bb4069cc082', 't_2c0c55997ce7', 't_2c1d8f7a0413', 't_2c441aaf376f', 't_2cb936a7eecb', 't_313c64951274', 't_3270fad41f70', 't_329d7c18b0d2', 't_347bb9551e0d', 't_349771300127', 't_34c4dc94932e', 't_362138edb7ec', 't_36bfa78b192b', 't_381bb74466d4', 't_38a58346c5b8', 't_39a73f205d10', 't_3b345e4d45e5', 't_3b5b4052303c', 't_3c81f63b0eb6', 't_3c99fb546f81', 't_3ccaaa77b729', 't_3f32f1c86a6f', 't_3fa629787878', 't_40df59b10590', 't_410ce81f54aa', 't_41dca05daaff', 't_422598e3db18', 't_42281299f87c', 't_42a13eb6337a', 't_42bc15e0ec90', 't_42cf4ee4f758', 't_4387d8668723', 't_4452b220f7f1', 't_448e5021d6a9', 't_44c20e3a0b55', 't_456fbab8edda', 't_46ddfca555c6', 't_471c135f3f58', 't_47362bb4331c', 't_478e2a4524b2', 't_47904167cf50', 't_4926f7fd5c86', 't_4b6462e478ea', 't_4bbd46ddee3f', 't_4bc5d70afc52', 't_4bdba4bf5cda', 't_4df20a43130b', 't_4ea248c41751', 't_4fcfc7da6630', 't_501a6332c690', 't_509411e583df', 't_527d90de45bb', 't_530b8bd554ed', 't_53107bb53cfa', 't_5431afa43933', 't_5432e4a997dd', 't_54578c3b2863', 't_547d1776893a', 't_5537c0ffdb84', 't_55724d0fe9e8', 't_56e5283cd1b5', 't_5725734365fa', 't_572f77c2a85c', 't_57559fc3d8fd', 't_5976d38541e0', 't_5ac432ef1a62', 't_5b87642d3048', 't_5b8f89d1f7f0', 't_5f27ae0d4f59', 't_5ff63d429e3f', 't_60bb2b4298ec', 't_6106b781f14c', 't_6534278b169f', 't_6784f5128508', 't_67bfde787955', 't_6823c7c8a4fc', 't_6989d553961d', 't_69d98c620bd2', 't_7223e7abf021', 't_73b113ffebe4', 't_745252e51c21', 't_74cfded62a26', 't_76f1cda0624c', 't_77e89f28d778', 't_79b8bf32463f', 't_7a253158e693', 't_7a26f9817343', 't_7b239ced96e9', 't_7bca4443197c', 't_7bfb1de42681', 't_7c8e7782567b', 't_7d5f1fd0bb9a', 't_7e2fe8718e8a', 't_7f0d2144801c', 't_80c0a3f5e9f1', 't_80f51bbcaa42', 't_822f08f98c74', 't_8304da83f894', 't_83441ecd5c53', 't_835395c1000c', 't_83ef7cc85290', 't_8470e7a7908f', 't_856d140d7b55', 't_85bfe7907861', 't_85e0501c3f2e', 't_87331d9d0795', 't_87936bd42919', 't_8927d536f7dd', 't_8ae8e3b7fd5d', 't_8d636906455f', 't_8d75d41c8827', 't_8e256420baf1', 't_8e6c2b9700a8', 't_8f7a702b2fdf', 't_8f894120e8ff', 't_931201cad6c2', 't_939c356fadea', 't_9415586f2dc0', 't_959ad3a3165e', 't_97902573b37f', 't_97df26e1dfaf', 't_9811f2fa8d15', 't_9832788863ee', 't_98d026fe5251', 't_993c4c6a5034', 't_99437a1dd481', 't_99b09e0ba3d4', 't_9cefdfed478c', 't_9da5a15575e4', 't_9e5b3d7a5c79', 't_9f0ead85b89f', 't_9f37a9ab5f74', 't_a0934ed72cb8', 't_a1c5de5ab52a', 't_a4cab9269d54', 't_a5e05e5c0197', 't_a638e521a6d5', 't_a67205413b23', 't_a7321cb4f67c', 't_ab2682fc9565', 't_ac7677b23eb7', 't_ad33bf0bfb46', 't_b1193b09c6f0', 't_b1e4d23fb415', 't_b3909e6feda1', 't_b3c59412d5dc', 't_b425c1255206', 't_b4ca78844197', 't_b79e9c367813', 't_b870b2e337b4', 't_babe9336e751', 't_bb2a41c8ad33', 't_bbffa6fa78a2', 't_bd6309dff5c0', 't_be3d13cb75cb', 't_bf5a288fc417', 't_bfd90612ca5e', 't_c042bba45102', 't_c06b198103a4', 't_c3a1b6adbf08', 't_c4d9d1e61488', 't_c4f8ab7208de', 't_c77ec2d7b124', 't_c79466774143', 't_c85e32315e27', 't_c89be92ea746', 't_c9a570477473', 't_caf6b3772fb5', 't_cbf9255a5655', 't_cc21a43b6c79', 't_ce9c63d13020', 't_cf14df447fab', 't_cf8158778a0e', 't_d0774ad3d781', 't_d1c974bf0c13', 't_d2f4cdb5dbf5', 't_d3254869b458', 't_d5cf545535bd', 't_d72286d877ae', 't_d86b5df1629a', 't_d90481eb9abc', 't_d9048ca7c28f', 't_d9b5e21e9edd', 't_daecafbce2c2', 't_db2c3007d13d', 't_dc0d41baeb76', 't_dcfafe9adb7b', 't_e163ccc6a5ce', 't_e19894b6fdea', 't_e1d90c2976da', 't_e256735da3e8', 't_e3e4d6f4b514', 't_e482d3c07ec3', 't_e4af82c8da4a', 't_e52054acb9c2', 't_e635502f4e84', 't_e6bc48a53974', 't_e83238a7a7ec', 't_e980f84ad851', 't_e9d11b8b1936', 't_e9dea4388d92', 't_eb226e96973c', 't_eb72b6ed1375', 't_ec5ea7399c4b', 't_ed69aa3c4a23', 't_ef5268461b03', 't_f0ac57dc404b', 't_f126afdb205e', 't_f1d1c22096fb', 't_f21f6530e42a', 't_f2abcccda3bb', 't_f31bcfbbbd3a', 't_f456672f62e8', 't_f4c193ccaaa3', 't_f4d4629d2d0e', 't_f4eb9c761a80', 't_f5dbba595481', 't_f726aba224f5', 't_f79135f2c76f', 't_f947175b08de', 't_fad48c43386e', 't_fc2cd0fe1f07', 't_fc374ca82910', 't_fc62598b42de', 't_fd1da028be88', 't_ff011a13602a', 't_ff05f2bc62c6']\n"
     ]
    }
   ],
   "source": [
    "topic_ids = predictor.predict(\"c_dd739e116435\", threshold=0.85)\n",
    "print(\"Predicted topics:\", topic_ids)"
   ]
  },
  {
   "cell_type": "code",
   "execution_count": null,
   "id": "8357d979-03df-4e3f-a9ee-68ff276b1ac8",
   "metadata": {},
   "outputs": [],
   "source": []
  },
  {
   "cell_type": "code",
   "execution_count": null,
   "id": "d4b8e38a-c31d-4e38-9acf-fdf804d5c9d0",
   "metadata": {},
   "outputs": [],
   "source": []
  }
 ],
 "metadata": {
  "kernelspec": {
   "display_name": "Python 3 (ipykernel)",
   "language": "python",
   "name": "python3"
  },
  "language_info": {
   "codemirror_mode": {
    "name": "ipython",
    "version": 3
   },
   "file_extension": ".py",
   "mimetype": "text/x-python",
   "name": "python",
   "nbconvert_exporter": "python",
   "pygments_lexer": "ipython3",
   "version": "3.8.19"
  }
 },
 "nbformat": 4,
 "nbformat_minor": 5
}
