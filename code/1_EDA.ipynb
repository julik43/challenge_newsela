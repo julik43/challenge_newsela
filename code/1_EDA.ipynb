{
 "cells": [
  {
   "cell_type": "markdown",
   "id": "1e4f304d-6f77-4c88-aed4-5c1bcd65cea0",
   "metadata": {},
   "source": [
    "# EDA (Exploratory Data Analysis)\n",
    "\n",
    "This notebook performs an exploratory analysis of the dataset by following these steps:\n",
    "\n",
    "1. **Loading the data and checking its dimensions.**\n",
    "2. **Exploring the correlation structure** to understand how different features relate to each other.\n",
    "3. **Examining the relationships between `topic_id` and `content_id`**, noting that there may be many-to-many mappings between them.\n",
    "4. **Investigating a way to create embedding features** that could support training a text classification model to generate embeddings — beyond classification solely by topic."
   ]
  },
  {
   "cell_type": "code",
   "execution_count": 1,
   "id": "87cc58ff-40ac-40c6-afb3-81394829559d",
   "metadata": {},
   "outputs": [],
   "source": [
    "import pandas as pd\n",
    "import matplotlib.pyplot as plt\n",
    "import seaborn as sns\n",
    "import os"
   ]
  },
  {
   "cell_type": "markdown",
   "id": "7396fa6a-6367-4216-9b05-59ffa272f852",
   "metadata": {},
   "source": [
    "## Loading datasets"
   ]
  },
  {
   "cell_type": "code",
   "execution_count": 2,
   "id": "4f713d6b-b5a7-4d00-acbb-fae3b3011410",
   "metadata": {},
   "outputs": [
    {
     "data": {
      "text/html": [
       "<div>\n",
       "<style scoped>\n",
       "    .dataframe tbody tr th:only-of-type {\n",
       "        vertical-align: middle;\n",
       "    }\n",
       "\n",
       "    .dataframe tbody tr th {\n",
       "        vertical-align: top;\n",
       "    }\n",
       "\n",
       "    .dataframe thead th {\n",
       "        text-align: right;\n",
       "    }\n",
       "</style>\n",
       "<table border=\"1\" class=\"dataframe\">\n",
       "  <thead>\n",
       "    <tr style=\"text-align: right;\">\n",
       "      <th></th>\n",
       "      <th>id</th>\n",
       "      <th>title</th>\n",
       "      <th>description</th>\n",
       "      <th>channel</th>\n",
       "      <th>category</th>\n",
       "      <th>level</th>\n",
       "      <th>language</th>\n",
       "      <th>parent</th>\n",
       "      <th>has_content</th>\n",
       "    </tr>\n",
       "  </thead>\n",
       "  <tbody>\n",
       "    <tr>\n",
       "      <th>0</th>\n",
       "      <td>t_00004da3a1b2</td>\n",
       "      <td>Откриването на резисторите</td>\n",
       "      <td>Изследване на материали, които предизвикват на...</td>\n",
       "      <td>000cf7</td>\n",
       "      <td>source</td>\n",
       "      <td>4</td>\n",
       "      <td>bg</td>\n",
       "      <td>t_16e29365b50d</td>\n",
       "      <td>True</td>\n",
       "    </tr>\n",
       "    <tr>\n",
       "      <th>1</th>\n",
       "      <td>t_000095e03056</td>\n",
       "      <td>Unit 3.3 Enlargements and Similarities</td>\n",
       "      <td>NaN</td>\n",
       "      <td>b3f329</td>\n",
       "      <td>aligned</td>\n",
       "      <td>2</td>\n",
       "      <td>en</td>\n",
       "      <td>t_aa32fb6252dc</td>\n",
       "      <td>False</td>\n",
       "    </tr>\n",
       "    <tr>\n",
       "      <th>2</th>\n",
       "      <td>t_00068291e9a4</td>\n",
       "      <td>Entradas e saídas de uma função</td>\n",
       "      <td>Entenda um pouco mais sobre funções.</td>\n",
       "      <td>8e286a</td>\n",
       "      <td>source</td>\n",
       "      <td>4</td>\n",
       "      <td>pt</td>\n",
       "      <td>t_d14b6c2a2b70</td>\n",
       "      <td>True</td>\n",
       "    </tr>\n",
       "    <tr>\n",
       "      <th>3</th>\n",
       "      <td>t_00069b63a70a</td>\n",
       "      <td>Transcripts</td>\n",
       "      <td>NaN</td>\n",
       "      <td>6e3ba4</td>\n",
       "      <td>source</td>\n",
       "      <td>3</td>\n",
       "      <td>en</td>\n",
       "      <td>t_4054df11a74e</td>\n",
       "      <td>True</td>\n",
       "    </tr>\n",
       "    <tr>\n",
       "      <th>4</th>\n",
       "      <td>t_0006d41a73a8</td>\n",
       "      <td>Графики на експоненциални функции (Алгебра 2 н...</td>\n",
       "      <td>Научи повече за графиките на сложните показате...</td>\n",
       "      <td>000cf7</td>\n",
       "      <td>source</td>\n",
       "      <td>4</td>\n",
       "      <td>bg</td>\n",
       "      <td>t_e2452e21d252</td>\n",
       "      <td>True</td>\n",
       "    </tr>\n",
       "  </tbody>\n",
       "</table>\n",
       "</div>"
      ],
      "text/plain": [
       "               id                                              title  \\\n",
       "0  t_00004da3a1b2                         Откриването на резисторите   \n",
       "1  t_000095e03056             Unit 3.3 Enlargements and Similarities   \n",
       "2  t_00068291e9a4                    Entradas e saídas de uma função   \n",
       "3  t_00069b63a70a                                        Transcripts   \n",
       "4  t_0006d41a73a8  Графики на експоненциални функции (Алгебра 2 н...   \n",
       "\n",
       "                                         description channel category  level  \\\n",
       "0  Изследване на материали, които предизвикват на...  000cf7   source      4   \n",
       "1                                                NaN  b3f329  aligned      2   \n",
       "2               Entenda um pouco mais sobre funções.  8e286a   source      4   \n",
       "3                                                NaN  6e3ba4   source      3   \n",
       "4  Научи повече за графиките на сложните показате...  000cf7   source      4   \n",
       "\n",
       "  language          parent  has_content  \n",
       "0       bg  t_16e29365b50d         True  \n",
       "1       en  t_aa32fb6252dc        False  \n",
       "2       pt  t_d14b6c2a2b70         True  \n",
       "3       en  t_4054df11a74e         True  \n",
       "4       bg  t_e2452e21d252         True  "
      ]
     },
     "execution_count": 2,
     "metadata": {},
     "output_type": "execute_result"
    }
   ],
   "source": [
    "# Loading topics dataset\n",
    "df_topics = pd.read_csv(\"./learning-equality-curriculum-recommendations/topics.csv\")  \n",
    "df_topics.head()"
   ]
  },
  {
   "cell_type": "code",
   "execution_count": 3,
   "id": "51dad2a5-9191-4d38-bdfb-5359f4b14337",
   "metadata": {},
   "outputs": [
    {
     "data": {
      "text/html": [
       "<div>\n",
       "<style scoped>\n",
       "    .dataframe tbody tr th:only-of-type {\n",
       "        vertical-align: middle;\n",
       "    }\n",
       "\n",
       "    .dataframe tbody tr th {\n",
       "        vertical-align: top;\n",
       "    }\n",
       "\n",
       "    .dataframe thead th {\n",
       "        text-align: right;\n",
       "    }\n",
       "</style>\n",
       "<table border=\"1\" class=\"dataframe\">\n",
       "  <thead>\n",
       "    <tr style=\"text-align: right;\">\n",
       "      <th></th>\n",
       "      <th>id</th>\n",
       "      <th>title</th>\n",
       "      <th>description</th>\n",
       "      <th>kind</th>\n",
       "      <th>text</th>\n",
       "      <th>language</th>\n",
       "      <th>copyright_holder</th>\n",
       "      <th>license</th>\n",
       "    </tr>\n",
       "  </thead>\n",
       "  <tbody>\n",
       "    <tr>\n",
       "      <th>0</th>\n",
       "      <td>c_00002381196d</td>\n",
       "      <td>Sumar números de varios dígitos: 48,029+233,930</td>\n",
       "      <td>Suma 48,029+233,930 mediante el algoritmo está...</td>\n",
       "      <td>video</td>\n",
       "      <td>NaN</td>\n",
       "      <td>es</td>\n",
       "      <td>NaN</td>\n",
       "      <td>NaN</td>\n",
       "    </tr>\n",
       "    <tr>\n",
       "      <th>1</th>\n",
       "      <td>c_000087304a9e</td>\n",
       "      <td>Trovare i fattori di un numero</td>\n",
       "      <td>Sal trova i fattori di 120.\\n\\n</td>\n",
       "      <td>video</td>\n",
       "      <td>NaN</td>\n",
       "      <td>it</td>\n",
       "      <td>NaN</td>\n",
       "      <td>NaN</td>\n",
       "    </tr>\n",
       "    <tr>\n",
       "      <th>2</th>\n",
       "      <td>c_0000ad142ddb</td>\n",
       "      <td>Sumar curvas de demanda</td>\n",
       "      <td>Cómo añadir curvas de demanda\\n\\n</td>\n",
       "      <td>video</td>\n",
       "      <td>NaN</td>\n",
       "      <td>es</td>\n",
       "      <td>NaN</td>\n",
       "      <td>NaN</td>\n",
       "    </tr>\n",
       "    <tr>\n",
       "      <th>3</th>\n",
       "      <td>c_0000c03adc8d</td>\n",
       "      <td>Nado de aproximação</td>\n",
       "      <td>Neste vídeo você vai aprender o nado de aproxi...</td>\n",
       "      <td>document</td>\n",
       "      <td>\\nNado de aproximação\\nSaber nadar nas ondas ...</td>\n",
       "      <td>pt</td>\n",
       "      <td>Sikana Education</td>\n",
       "      <td>CC BY-NC-ND</td>\n",
       "    </tr>\n",
       "    <tr>\n",
       "      <th>4</th>\n",
       "      <td>c_00016694ea2a</td>\n",
       "      <td>geometry-m3-topic-a-overview.pdf</td>\n",
       "      <td>geometry-m3-topic-a-overview.pdf</td>\n",
       "      <td>document</td>\n",
       "      <td>Estándares Comunes del Estado de Nueva York\\n\\...</td>\n",
       "      <td>es</td>\n",
       "      <td>Engage NY</td>\n",
       "      <td>CC BY-NC-SA</td>\n",
       "    </tr>\n",
       "  </tbody>\n",
       "</table>\n",
       "</div>"
      ],
      "text/plain": [
       "               id                                             title  \\\n",
       "0  c_00002381196d  Sumar números de varios dígitos: 48,029+233,930    \n",
       "1  c_000087304a9e                    Trovare i fattori di un numero   \n",
       "2  c_0000ad142ddb                           Sumar curvas de demanda   \n",
       "3  c_0000c03adc8d                               Nado de aproximação   \n",
       "4  c_00016694ea2a                  geometry-m3-topic-a-overview.pdf   \n",
       "\n",
       "                                         description      kind  \\\n",
       "0  Suma 48,029+233,930 mediante el algoritmo está...     video   \n",
       "1                    Sal trova i fattori di 120.\\n\\n     video   \n",
       "2                  Cómo añadir curvas de demanda\\n\\n     video   \n",
       "3  Neste vídeo você vai aprender o nado de aproxi...  document   \n",
       "4                   geometry-m3-topic-a-overview.pdf  document   \n",
       "\n",
       "                                                text language  \\\n",
       "0                                                NaN       es   \n",
       "1                                                NaN       it   \n",
       "2                                                NaN       es   \n",
       "3  \\nNado de aproximação\\nSaber nadar nas ondas ...       pt   \n",
       "4  Estándares Comunes del Estado de Nueva York\\n\\...       es   \n",
       "\n",
       "   copyright_holder      license  \n",
       "0               NaN          NaN  \n",
       "1               NaN          NaN  \n",
       "2               NaN          NaN  \n",
       "3  Sikana Education  CC BY-NC-ND  \n",
       "4         Engage NY  CC BY-NC-SA  "
      ]
     },
     "execution_count": 3,
     "metadata": {},
     "output_type": "execute_result"
    }
   ],
   "source": [
    "# Loading content dataset\n",
    "df_content = pd.read_csv(\"./learning-equality-curriculum-recommendations/content.csv\")\n",
    "df_content.head()"
   ]
  },
  {
   "cell_type": "code",
   "execution_count": 4,
   "id": "ae729cc7-ec66-4009-8b9e-8df2eb64703a",
   "metadata": {},
   "outputs": [
    {
     "data": {
      "text/html": [
       "<div>\n",
       "<style scoped>\n",
       "    .dataframe tbody tr th:only-of-type {\n",
       "        vertical-align: middle;\n",
       "    }\n",
       "\n",
       "    .dataframe tbody tr th {\n",
       "        vertical-align: top;\n",
       "    }\n",
       "\n",
       "    .dataframe thead th {\n",
       "        text-align: right;\n",
       "    }\n",
       "</style>\n",
       "<table border=\"1\" class=\"dataframe\">\n",
       "  <thead>\n",
       "    <tr style=\"text-align: right;\">\n",
       "      <th></th>\n",
       "      <th>topic_id</th>\n",
       "      <th>content_ids</th>\n",
       "    </tr>\n",
       "  </thead>\n",
       "  <tbody>\n",
       "    <tr>\n",
       "      <th>0</th>\n",
       "      <td>t_00004da3a1b2</td>\n",
       "      <td>c_1108dd0c7a5d c_376c5a8eb028 c_5bc0e1e2cba0 c...</td>\n",
       "    </tr>\n",
       "    <tr>\n",
       "      <th>1</th>\n",
       "      <td>t_00068291e9a4</td>\n",
       "      <td>c_639ea2ef9c95 c_89ce9367be10 c_ac1672cdcd2c c...</td>\n",
       "    </tr>\n",
       "    <tr>\n",
       "      <th>2</th>\n",
       "      <td>t_00069b63a70a</td>\n",
       "      <td>c_11a1dc0bfb99</td>\n",
       "    </tr>\n",
       "    <tr>\n",
       "      <th>3</th>\n",
       "      <td>t_0006d41a73a8</td>\n",
       "      <td>c_0c6473c3480d c_1c57a1316568 c_5e375cf14c47 c...</td>\n",
       "    </tr>\n",
       "    <tr>\n",
       "      <th>4</th>\n",
       "      <td>t_0008768bdee6</td>\n",
       "      <td>c_34e1424229b4 c_7d1a964d66d5 c_aab93ee667f4</td>\n",
       "    </tr>\n",
       "  </tbody>\n",
       "</table>\n",
       "</div>"
      ],
      "text/plain": [
       "         topic_id                                        content_ids\n",
       "0  t_00004da3a1b2  c_1108dd0c7a5d c_376c5a8eb028 c_5bc0e1e2cba0 c...\n",
       "1  t_00068291e9a4  c_639ea2ef9c95 c_89ce9367be10 c_ac1672cdcd2c c...\n",
       "2  t_00069b63a70a                                     c_11a1dc0bfb99\n",
       "3  t_0006d41a73a8  c_0c6473c3480d c_1c57a1316568 c_5e375cf14c47 c...\n",
       "4  t_0008768bdee6       c_34e1424229b4 c_7d1a964d66d5 c_aab93ee667f4"
      ]
     },
     "execution_count": 4,
     "metadata": {},
     "output_type": "execute_result"
    }
   ],
   "source": [
    "# Loading the correlation dataset that relates topic_id with multiple content_ids\n",
    "df_correlations = pd.read_csv(\"./learning-equality-curriculum-recommendations/correlations.csv\")\n",
    "df_correlations.head()"
   ]
  },
  {
   "cell_type": "code",
   "execution_count": 5,
   "id": "a612000f-c6b9-47f3-8b5e-8411ef24eaa6",
   "metadata": {},
   "outputs": [
    {
     "data": {
      "text/plain": [
       "'c_1108dd0c7a5d c_376c5a8eb028 c_5bc0e1e2cba0 c_76231f9d0b5e'"
      ]
     },
     "execution_count": 5,
     "metadata": {},
     "output_type": "execute_result"
    }
   ],
   "source": [
    "# Analyzing how the corelations come\n",
    "df_correlations.iloc[0,1]"
   ]
  },
  {
   "cell_type": "code",
   "execution_count": 6,
   "id": "7a04fb4f-7d9c-4e9f-bd25-4c4fca5bf48a",
   "metadata": {},
   "outputs": [
    {
     "data": {
      "text/plain": [
       "((76972, 9), (154047, 8), (61517, 2))"
      ]
     },
     "execution_count": 6,
     "metadata": {},
     "output_type": "execute_result"
    }
   ],
   "source": [
    "# Checking for the dimensions of the dataset, this means that we have 76972 classes to classify\n",
    "df_topics.shape, df_content.shape, df_correlations.shape"
   ]
  },
  {
   "cell_type": "code",
   "execution_count": 7,
   "id": "308b26aa-e4b7-490c-985c-1c2060c2f414",
   "metadata": {},
   "outputs": [
    {
     "data": {
      "text/plain": [
       "content_ids\n",
       "c_dd739e116435                                                                                                                                                                                                                                     122\n",
       "c_04e6b34426c6 c_4f5925b37bdf                                                                                                                                                                                                                       44\n",
       "c_3856cf0f321a c_76ea3f6f2dca                                                                                                                                                                                                                       29\n",
       "c_5a3c3fe31842                                                                                                                                                                                                                                      28\n",
       "c_1a9452757838                                                                                                                                                                                                                                      22\n",
       "                                                                                                                                                                                                                                                  ... \n",
       "c_12d6db4c0121 c_74cd5a264888 c_7b93992c8703 c_84f811d09139 c_8e7fced367df c_9261dc71dce4 c_97a09b8f6abe c_a0ff6091662e c_acc306e456ba c_aecdd9c6b142 c_af37ea9f1bea c_bee3069da5b7 c_cb40549b0008 c_d484b868ca98 c_d6a0bd6a0b94 c_eb22876fec94      1\n",
       "c_20b3d7a1bd0c c_251ab3f7d234 c_38a6a2d56a3f c_7368e3a79e97 c_c86029404167 c_f30e4d3471ce                                                                                                                                                            1\n",
       "c_38924fc95b8b c_dff1114b4a23                                                                                                                                                                                                                        1\n",
       "c_4368c3bf5d87 c_584eb1893637 c_ed9d9b403b7f                                                                                                                                                                                                         1\n",
       "c_92b8fad372ee                                                                                                                                                                                                                                       1\n",
       "Name: count, Length: 47299, dtype: int64"
      ]
     },
     "execution_count": 7,
     "metadata": {},
     "output_type": "execute_result"
    }
   ],
   "source": [
    "# Checking if the data is always classify the same way and how content_ids are related\n",
    "df_correlations.content_ids.value_counts()"
   ]
  },
  {
   "cell_type": "code",
   "execution_count": 8,
   "id": "e1677bf3-66b4-4d6b-8ef0-e7cfe7f9f42d",
   "metadata": {},
   "outputs": [
    {
     "data": {
      "text/html": [
       "<div>\n",
       "<style scoped>\n",
       "    .dataframe tbody tr th:only-of-type {\n",
       "        vertical-align: middle;\n",
       "    }\n",
       "\n",
       "    .dataframe tbody tr th {\n",
       "        vertical-align: top;\n",
       "    }\n",
       "\n",
       "    .dataframe thead th {\n",
       "        text-align: right;\n",
       "    }\n",
       "</style>\n",
       "<table border=\"1\" class=\"dataframe\">\n",
       "  <thead>\n",
       "    <tr style=\"text-align: right;\">\n",
       "      <th></th>\n",
       "      <th>topic_id</th>\n",
       "      <th>content_ids</th>\n",
       "    </tr>\n",
       "  </thead>\n",
       "  <tbody>\n",
       "    <tr>\n",
       "      <th>0</th>\n",
       "      <td>t_00004da3a1b2</td>\n",
       "      <td>[c_1108dd0c7a5d, c_376c5a8eb028, c_5bc0e1e2cba...</td>\n",
       "    </tr>\n",
       "    <tr>\n",
       "      <th>1</th>\n",
       "      <td>t_00068291e9a4</td>\n",
       "      <td>[c_639ea2ef9c95, c_89ce9367be10, c_ac1672cdcd2...</td>\n",
       "    </tr>\n",
       "    <tr>\n",
       "      <th>2</th>\n",
       "      <td>t_00069b63a70a</td>\n",
       "      <td>[c_11a1dc0bfb99]</td>\n",
       "    </tr>\n",
       "    <tr>\n",
       "      <th>3</th>\n",
       "      <td>t_0006d41a73a8</td>\n",
       "      <td>[c_0c6473c3480d, c_1c57a1316568, c_5e375cf14c4...</td>\n",
       "    </tr>\n",
       "    <tr>\n",
       "      <th>4</th>\n",
       "      <td>t_0008768bdee6</td>\n",
       "      <td>[c_34e1424229b4, c_7d1a964d66d5, c_aab93ee667f4]</td>\n",
       "    </tr>\n",
       "  </tbody>\n",
       "</table>\n",
       "</div>"
      ],
      "text/plain": [
       "         topic_id                                        content_ids\n",
       "0  t_00004da3a1b2  [c_1108dd0c7a5d, c_376c5a8eb028, c_5bc0e1e2cba...\n",
       "1  t_00068291e9a4  [c_639ea2ef9c95, c_89ce9367be10, c_ac1672cdcd2...\n",
       "2  t_00069b63a70a                                   [c_11a1dc0bfb99]\n",
       "3  t_0006d41a73a8  [c_0c6473c3480d, c_1c57a1316568, c_5e375cf14c4...\n",
       "4  t_0008768bdee6   [c_34e1424229b4, c_7d1a964d66d5, c_aab93ee667f4]"
      ]
     },
     "execution_count": 8,
     "metadata": {},
     "output_type": "execute_result"
    }
   ],
   "source": [
    "# Splitting the content_ids so we can explode the table and have one to one correlations\n",
    "df_correlations['content_ids'] = df_correlations['content_ids'].str.split()\n",
    "df_correlations.head()"
   ]
  },
  {
   "cell_type": "code",
   "execution_count": 9,
   "id": "6a0e8f05-6bd8-431e-a69b-49430013804c",
   "metadata": {},
   "outputs": [],
   "source": [
    "# Exploting the table an having one to one correlations\n",
    "df_exploded = df_correlations.explode('content_ids')"
   ]
  },
  {
   "cell_type": "code",
   "execution_count": 10,
   "id": "5d7271a8-b4ac-4d71-8bb5-c0e366c7431a",
   "metadata": {},
   "outputs": [
    {
     "data": {
      "text/html": [
       "<div>\n",
       "<style scoped>\n",
       "    .dataframe tbody tr th:only-of-type {\n",
       "        vertical-align: middle;\n",
       "    }\n",
       "\n",
       "    .dataframe tbody tr th {\n",
       "        vertical-align: top;\n",
       "    }\n",
       "\n",
       "    .dataframe thead th {\n",
       "        text-align: right;\n",
       "    }\n",
       "</style>\n",
       "<table border=\"1\" class=\"dataframe\">\n",
       "  <thead>\n",
       "    <tr style=\"text-align: right;\">\n",
       "      <th></th>\n",
       "      <th>topic_id</th>\n",
       "      <th>content_ids</th>\n",
       "    </tr>\n",
       "  </thead>\n",
       "  <tbody>\n",
       "    <tr>\n",
       "      <th>0</th>\n",
       "      <td>t_00004da3a1b2</td>\n",
       "      <td>c_1108dd0c7a5d</td>\n",
       "    </tr>\n",
       "    <tr>\n",
       "      <th>0</th>\n",
       "      <td>t_00004da3a1b2</td>\n",
       "      <td>c_376c5a8eb028</td>\n",
       "    </tr>\n",
       "    <tr>\n",
       "      <th>0</th>\n",
       "      <td>t_00004da3a1b2</td>\n",
       "      <td>c_5bc0e1e2cba0</td>\n",
       "    </tr>\n",
       "    <tr>\n",
       "      <th>0</th>\n",
       "      <td>t_00004da3a1b2</td>\n",
       "      <td>c_76231f9d0b5e</td>\n",
       "    </tr>\n",
       "    <tr>\n",
       "      <th>1</th>\n",
       "      <td>t_00068291e9a4</td>\n",
       "      <td>c_639ea2ef9c95</td>\n",
       "    </tr>\n",
       "  </tbody>\n",
       "</table>\n",
       "</div>"
      ],
      "text/plain": [
       "         topic_id     content_ids\n",
       "0  t_00004da3a1b2  c_1108dd0c7a5d\n",
       "0  t_00004da3a1b2  c_376c5a8eb028\n",
       "0  t_00004da3a1b2  c_5bc0e1e2cba0\n",
       "0  t_00004da3a1b2  c_76231f9d0b5e\n",
       "1  t_00068291e9a4  c_639ea2ef9c95"
      ]
     },
     "execution_count": 10,
     "metadata": {},
     "output_type": "execute_result"
    }
   ],
   "source": [
    "df_exploded.head()"
   ]
  },
  {
   "cell_type": "code",
   "execution_count": 11,
   "id": "788b50f3-f36b-4fc8-bce8-d17a2dd3b512",
   "metadata": {},
   "outputs": [
    {
     "data": {
      "text/plain": [
       "(279919, 2)"
      ]
     },
     "execution_count": 11,
     "metadata": {},
     "output_type": "execute_result"
    }
   ],
   "source": [
    "# Amount of positive correlations between the two datasets\n",
    "df_exploded.shape"
   ]
  },
  {
   "cell_type": "code",
   "execution_count": 12,
   "id": "82c93336-4bce-41f3-97d7-4923b2631195",
   "metadata": {},
   "outputs": [
    {
     "data": {
      "text/plain": [
       "topic_id\n",
       "t_c5673d1b5642    293\n",
       "t_58ca0afc0bae    270\n",
       "t_92cf4e58f786    266\n",
       "t_b3fa23bfbeaa    264\n",
       "t_17bf2af6d82b    214\n",
       "                 ... \n",
       "t_b12b3758cbfb      1\n",
       "t_b12389a743a3      1\n",
       "t_33b0a1de31fa      1\n",
       "t_33b2302fde2c      1\n",
       "t_fffe811a6da9      1\n",
       "Name: count, Length: 61517, dtype: int64"
      ]
     },
     "execution_count": 12,
     "metadata": {},
     "output_type": "execute_result"
    }
   ],
   "source": [
    "# Checking the amount of topics correlated to content_ids\n",
    "df_exploded.topic_id.value_counts()"
   ]
  },
  {
   "cell_type": "code",
   "execution_count": 13,
   "id": "c831344f-c384-41aa-9ea6-c0149802b4f9",
   "metadata": {},
   "outputs": [
    {
     "data": {
      "text/plain": [
       "content_ids\n",
       "c_dd739e116435    241\n",
       "c_2f8849826d71     75\n",
       "c_4f5925b37bdf     54\n",
       "c_59778b25b537     52\n",
       "c_04e6b34426c6     48\n",
       "                 ... \n",
       "c_8d60dd1f3ce5      1\n",
       "c_85c0be352fec      1\n",
       "c_4847ffe1bb45      1\n",
       "c_40f23253bd5b      1\n",
       "c_92b8fad372ee      1\n",
       "Name: count, Length: 154047, dtype: int64"
      ]
     },
     "execution_count": 13,
     "metadata": {},
     "output_type": "execute_result"
    }
   ],
   "source": [
    "# Checking the amount of contents correlated to topic_ids\n",
    "df_exploded.content_ids.value_counts()"
   ]
  },
  {
   "cell_type": "code",
   "execution_count": 14,
   "id": "f5264582-03fa-4513-9885-99ae7f396af0",
   "metadata": {},
   "outputs": [
    {
     "data": {
      "text/html": [
       "<div>\n",
       "<style scoped>\n",
       "    .dataframe tbody tr th:only-of-type {\n",
       "        vertical-align: middle;\n",
       "    }\n",
       "\n",
       "    .dataframe tbody tr th {\n",
       "        vertical-align: top;\n",
       "    }\n",
       "\n",
       "    .dataframe thead th {\n",
       "        text-align: right;\n",
       "    }\n",
       "</style>\n",
       "<table border=\"1\" class=\"dataframe\">\n",
       "  <thead>\n",
       "    <tr style=\"text-align: right;\">\n",
       "      <th></th>\n",
       "      <th>topic_id</th>\n",
       "      <th>content_ids</th>\n",
       "    </tr>\n",
       "  </thead>\n",
       "  <tbody>\n",
       "    <tr>\n",
       "      <th>626</th>\n",
       "      <td>t_02a7923ac3f1</td>\n",
       "      <td>c_dd739e116435</td>\n",
       "    </tr>\n",
       "    <tr>\n",
       "      <th>655</th>\n",
       "      <td>t_02bcfa7b72ec</td>\n",
       "      <td>c_dd739e116435</td>\n",
       "    </tr>\n",
       "    <tr>\n",
       "      <th>713</th>\n",
       "      <td>t_03005404b28a</td>\n",
       "      <td>c_dd739e116435</td>\n",
       "    </tr>\n",
       "    <tr>\n",
       "      <th>899</th>\n",
       "      <td>t_03ea6cb9a100</td>\n",
       "      <td>c_dd739e116435</td>\n",
       "    </tr>\n",
       "    <tr>\n",
       "      <th>1120</th>\n",
       "      <td>t_04df4fee08b4</td>\n",
       "      <td>c_dd739e116435</td>\n",
       "    </tr>\n",
       "    <tr>\n",
       "      <th>...</th>\n",
       "      <td>...</td>\n",
       "      <td>...</td>\n",
       "    </tr>\n",
       "    <tr>\n",
       "      <th>58950</th>\n",
       "      <td>t_f57a51a703c9</td>\n",
       "      <td>c_dd739e116435</td>\n",
       "    </tr>\n",
       "    <tr>\n",
       "      <th>59041</th>\n",
       "      <td>t_f5d23b7f1f25</td>\n",
       "      <td>c_dd739e116435</td>\n",
       "    </tr>\n",
       "    <tr>\n",
       "      <th>59119</th>\n",
       "      <td>t_f62e9925e916</td>\n",
       "      <td>c_dd739e116435</td>\n",
       "    </tr>\n",
       "    <tr>\n",
       "      <th>59142</th>\n",
       "      <td>t_f641783b5b66</td>\n",
       "      <td>c_dd739e116435</td>\n",
       "    </tr>\n",
       "    <tr>\n",
       "      <th>59451</th>\n",
       "      <td>t_f78c1604a199</td>\n",
       "      <td>c_dd739e116435</td>\n",
       "    </tr>\n",
       "  </tbody>\n",
       "</table>\n",
       "<p>241 rows × 2 columns</p>\n",
       "</div>"
      ],
      "text/plain": [
       "             topic_id     content_ids\n",
       "626    t_02a7923ac3f1  c_dd739e116435\n",
       "655    t_02bcfa7b72ec  c_dd739e116435\n",
       "713    t_03005404b28a  c_dd739e116435\n",
       "899    t_03ea6cb9a100  c_dd739e116435\n",
       "1120   t_04df4fee08b4  c_dd739e116435\n",
       "...               ...             ...\n",
       "58950  t_f57a51a703c9  c_dd739e116435\n",
       "59041  t_f5d23b7f1f25  c_dd739e116435\n",
       "59119  t_f62e9925e916  c_dd739e116435\n",
       "59142  t_f641783b5b66  c_dd739e116435\n",
       "59451  t_f78c1604a199  c_dd739e116435\n",
       "\n",
       "[241 rows x 2 columns]"
      ]
     },
     "execution_count": 14,
     "metadata": {},
     "output_type": "execute_result"
    }
   ],
   "source": [
    "# Checking the information for the most persistent content\n",
    "df_exploded[df_exploded[\"content_ids\"] == \"c_dd739e116435\"]"
   ]
  },
  {
   "cell_type": "code",
   "execution_count": 15,
   "id": "7d522764-1651-471d-8083-172ba7262acc",
   "metadata": {},
   "outputs": [
    {
     "data": {
      "text/html": [
       "<div>\n",
       "<style scoped>\n",
       "    .dataframe tbody tr th:only-of-type {\n",
       "        vertical-align: middle;\n",
       "    }\n",
       "\n",
       "    .dataframe tbody tr th {\n",
       "        vertical-align: top;\n",
       "    }\n",
       "\n",
       "    .dataframe thead th {\n",
       "        text-align: right;\n",
       "    }\n",
       "</style>\n",
       "<table border=\"1\" class=\"dataframe\">\n",
       "  <thead>\n",
       "    <tr style=\"text-align: right;\">\n",
       "      <th></th>\n",
       "      <th>id</th>\n",
       "      <th>title</th>\n",
       "      <th>description</th>\n",
       "      <th>kind</th>\n",
       "      <th>text</th>\n",
       "      <th>language</th>\n",
       "      <th>copyright_holder</th>\n",
       "      <th>license</th>\n",
       "    </tr>\n",
       "  </thead>\n",
       "  <tbody>\n",
       "    <tr>\n",
       "      <th>133372</th>\n",
       "      <td>c_dd739e116435</td>\n",
       "      <td>বই</td>\n",
       "      <td>NaN</td>\n",
       "      <td>document</td>\n",
       "      <td>NaN</td>\n",
       "      <td>bn</td>\n",
       "      <td>NaN</td>\n",
       "      <td>NaN</td>\n",
       "    </tr>\n",
       "  </tbody>\n",
       "</table>\n",
       "</div>"
      ],
      "text/plain": [
       "                    id title description      kind text language  \\\n",
       "133372  c_dd739e116435    বই         NaN  document  NaN       bn   \n",
       "\n",
       "       copyright_holder license  \n",
       "133372              NaN     NaN  "
      ]
     },
     "execution_count": 15,
     "metadata": {},
     "output_type": "execute_result"
    }
   ],
   "source": [
    "# checking the information available for that content\n",
    "df_content[df_content[\"id\"] == \"c_dd739e116435\"]"
   ]
  },
  {
   "cell_type": "code",
   "execution_count": 16,
   "id": "0b6123fc-a882-4994-903f-17915193e5ae",
   "metadata": {},
   "outputs": [
    {
     "data": {
      "text/html": [
       "<div>\n",
       "<style scoped>\n",
       "    .dataframe tbody tr th:only-of-type {\n",
       "        vertical-align: middle;\n",
       "    }\n",
       "\n",
       "    .dataframe tbody tr th {\n",
       "        vertical-align: top;\n",
       "    }\n",
       "\n",
       "    .dataframe thead th {\n",
       "        text-align: right;\n",
       "    }\n",
       "</style>\n",
       "<table border=\"1\" class=\"dataframe\">\n",
       "  <thead>\n",
       "    <tr style=\"text-align: right;\">\n",
       "      <th></th>\n",
       "      <th>id</th>\n",
       "      <th>title</th>\n",
       "      <th>description</th>\n",
       "      <th>channel</th>\n",
       "      <th>category</th>\n",
       "      <th>level</th>\n",
       "      <th>language</th>\n",
       "      <th>parent</th>\n",
       "      <th>has_content</th>\n",
       "    </tr>\n",
       "  </thead>\n",
       "  <tbody>\n",
       "    <tr>\n",
       "      <th>798</th>\n",
       "      <td>t_02a7923ac3f1</td>\n",
       "      <td>নিজে করি</td>\n",
       "      <td>NaN</td>\n",
       "      <td>36068f</td>\n",
       "      <td>aligned</td>\n",
       "      <td>4</td>\n",
       "      <td>bn</td>\n",
       "      <td>t_7dcd717461b4</td>\n",
       "      <td>True</td>\n",
       "    </tr>\n",
       "  </tbody>\n",
       "</table>\n",
       "</div>"
      ],
      "text/plain": [
       "                 id     title description channel category  level language  \\\n",
       "798  t_02a7923ac3f1  নিজে করি         NaN  36068f  aligned      4       bn   \n",
       "\n",
       "             parent  has_content  \n",
       "798  t_7dcd717461b4         True  "
      ]
     },
     "execution_count": 16,
     "metadata": {},
     "output_type": "execute_result"
    }
   ],
   "source": [
    "# checking for some topics related to one content_id\n",
    "df_topics[df_topics[\"id\"] == \"t_02a7923ac3f1\"]"
   ]
  },
  {
   "cell_type": "code",
   "execution_count": 17,
   "id": "9b24d595-3024-4974-b9e6-42fcc359b21c",
   "metadata": {},
   "outputs": [
    {
     "data": {
      "text/html": [
       "<div>\n",
       "<style scoped>\n",
       "    .dataframe tbody tr th:only-of-type {\n",
       "        vertical-align: middle;\n",
       "    }\n",
       "\n",
       "    .dataframe tbody tr th {\n",
       "        vertical-align: top;\n",
       "    }\n",
       "\n",
       "    .dataframe thead th {\n",
       "        text-align: right;\n",
       "    }\n",
       "</style>\n",
       "<table border=\"1\" class=\"dataframe\">\n",
       "  <thead>\n",
       "    <tr style=\"text-align: right;\">\n",
       "      <th></th>\n",
       "      <th>id</th>\n",
       "      <th>title</th>\n",
       "      <th>description</th>\n",
       "      <th>channel</th>\n",
       "      <th>category</th>\n",
       "      <th>level</th>\n",
       "      <th>language</th>\n",
       "      <th>parent</th>\n",
       "      <th>has_content</th>\n",
       "    </tr>\n",
       "  </thead>\n",
       "  <tbody>\n",
       "    <tr>\n",
       "      <th>73812</th>\n",
       "      <td>t_f57a51a703c9</td>\n",
       "      <td>১ এর চেয়ে ছোট, ১ এর সমান এবং ১ এর চেয়ে বড় ভগ্নাংশ</td>\n",
       "      <td>NaN</td>\n",
       "      <td>36068f</td>\n",
       "      <td>aligned</td>\n",
       "      <td>4</td>\n",
       "      <td>bn</td>\n",
       "      <td>t_dce846e88e94</td>\n",
       "      <td>True</td>\n",
       "    </tr>\n",
       "  </tbody>\n",
       "</table>\n",
       "</div>"
      ],
      "text/plain": [
       "                   id                                              title  \\\n",
       "73812  t_f57a51a703c9  ১ এর চেয়ে ছোট, ১ এর সমান এবং ১ এর চেয়ে বড় ভগ্নাংশ   \n",
       "\n",
       "      description channel category  level language          parent  \\\n",
       "73812         NaN  36068f  aligned      4       bn  t_dce846e88e94   \n",
       "\n",
       "       has_content  \n",
       "73812         True  "
      ]
     },
     "execution_count": 17,
     "metadata": {},
     "output_type": "execute_result"
    }
   ],
   "source": [
    "df_topics[df_topics[\"id\"] == \"t_f57a51a703c9\"]"
   ]
  },
  {
   "cell_type": "code",
   "execution_count": 18,
   "id": "0d7e3f4f-af73-4fa4-8cc6-e5e62a6ccd52",
   "metadata": {},
   "outputs": [
    {
     "name": "stdout",
     "output_type": "stream",
     "text": [
      "28\n"
     ]
    },
    {
     "data": {
      "text/plain": [
       "language\n",
       "en     36161\n",
       "es     13910\n",
       "pt      4177\n",
       "ar      3701\n",
       "fr      3701\n",
       "bg      2867\n",
       "sw      2860\n",
       "gu      2320\n",
       "bn      2176\n",
       "hi      1786\n",
       "it       866\n",
       "zh       862\n",
       "mr       300\n",
       "fil      247\n",
       "as       167\n",
       "my       135\n",
       "km       121\n",
       "kn       119\n",
       "te        93\n",
       "or        70\n",
       "ur        66\n",
       "ta        60\n",
       "pnb       51\n",
       "pl        43\n",
       "tr        40\n",
       "swa       35\n",
       "ru        34\n",
       "mul        4\n",
       "Name: count, dtype: int64"
      ]
     },
     "execution_count": 18,
     "metadata": {},
     "output_type": "execute_result"
    }
   ],
   "source": [
    "print(len(df_topics.language.value_counts()))\n",
    "df_topics.language.value_counts()"
   ]
  },
  {
   "cell_type": "code",
   "execution_count": 19,
   "id": "8f3203a2-f4d2-43c1-96c5-a69bafab025a",
   "metadata": {},
   "outputs": [
    {
     "data": {
      "image/png": "[encoded data removed]",
      "text/plain": [
       "<Figure size 1000x600 with 1 Axes>"
      ]
     },
     "metadata": {},
     "output_type": "display_data"
    }
   ],
   "source": [
    "# Getting the data\n",
    "language_counts = df_topics.language.value_counts().reset_index()\n",
    "language_counts.columns = ['language', 'count']\n",
    "\n",
    "# Plotting the graph\n",
    "plt.figure(figsize=(10, 6))\n",
    "sns.barplot(data=language_counts, x='language', y='count')\n",
    "plt.title('Language Distribution in Topics')\n",
    "plt.xlabel('Language')\n",
    "plt.ylabel('Count')\n",
    "plt.xticks(rotation=45)\n",
    "plt.tight_layout()\n",
    "plt.show()"
   ]
  },
  {
   "cell_type": "markdown",
   "id": "1844538d-cfea-4df8-8758-950757498e06",
   "metadata": {},
   "source": [
    "Since the amount of language is only 28, we can use this as class for an blstm model that can let us have embeddings, this is going to be done in 2_blstm_and_classifier.ipynb"
   ]
  },
  {
   "cell_type": "code",
   "execution_count": null,
   "id": "1c107813-6a1a-440b-a14f-30635f706fc9",
   "metadata": {},
   "outputs": [],
   "source": []
  },
  {
   "cell_type": "code",
   "execution_count": null,
   "id": "62a7c2a9-feff-4565-b705-597a6013a6f8",
   "metadata": {},
   "outputs": [],
   "source": []
  },
  {
   "cell_type": "code",
   "execution_count": null,
   "id": "55894348-c47c-478f-a6f3-5e8ca1e7c030",
   "metadata": {},
   "outputs": [],
   "source": []
  }
 ],
 "metadata": {
  "kernelspec": {
   "display_name": "Python 3 (ipykernel)",
   "language": "python",
   "name": "python3"
  },
  "language_info": {
   "codemirror_mode": {
    "name": "ipython",
    "version": 3
   },
   "file_extension": ".py",
   "mimetype": "text/x-python",
   "name": "python",
   "nbconvert_exporter": "python",
   "pygments_lexer": "ipython3",
   "version": "3.8.19"
  }
 },
 "nbformat": 4,
 "nbformat_minor": 5
}
